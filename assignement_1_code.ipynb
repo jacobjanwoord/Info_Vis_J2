{
 "cells": [
  {
   "cell_type": "code",
   "execution_count": 49,
   "metadata": {},
   "outputs": [],
   "source": [
    "import pandas as pd\n",
    "pd.__version__\n",
    "import plotly.graph_objects as go\n",
    "import plotly.express as px\n",
    "from plotly.subplots import make_subplots"
   ]
  },
  {
   "cell_type": "code",
   "execution_count": 3,
   "metadata": {},
   "outputs": [
    {
     "name": "stdout",
     "output_type": "stream",
     "text": [
      "          hotel  is_canceled  lead_time  arrival_date_year arrival_date_month  \\\n",
      "0  Resort Hotel            0        342               2015               July   \n",
      "1  Resort Hotel            0        737               2015               July   \n",
      "2  Resort Hotel            0          7               2015               July   \n",
      "3  Resort Hotel            0         13               2015               July   \n",
      "4  Resort Hotel            0         14               2015               July   \n",
      "\n",
      "   arrival_date_week_number  arrival_date_day_of_month  \\\n",
      "0                        27                          1   \n",
      "1                        27                          1   \n",
      "2                        27                          1   \n",
      "3                        27                          1   \n",
      "4                        27                          1   \n",
      "\n",
      "   stays_in_weekend_nights  stays_in_week_nights  adults  ...  customer_type  \\\n",
      "0                        0                     0       2  ...      Transient   \n",
      "1                        0                     0       2  ...      Transient   \n",
      "2                        0                     1       1  ...      Transient   \n",
      "3                        0                     1       1  ...      Transient   \n",
      "4                        0                     2       2  ...      Transient   \n",
      "\n",
      "    adr required_car_parking_spaces total_of_special_requests  \\\n",
      "0   0.0                           0                         0   \n",
      "1   0.0                           0                         0   \n",
      "2  75.0                           0                         0   \n",
      "3  75.0                           0                         0   \n",
      "4  98.0                           0                         1   \n",
      "\n",
      "  reservation_status reservation_status_date            name  \\\n",
      "0          Check-Out              2015-07-01   Ernest Barnes   \n",
      "1          Check-Out              2015-07-01    Andrea Baker   \n",
      "2          Check-Out              2015-07-02  Rebecca Parker   \n",
      "3          Check-Out              2015-07-02    Laura Murray   \n",
      "4          Check-Out              2015-07-03     Linda Hines   \n",
      "\n",
      "                         email  phone-number       credit_card  \n",
      "0  Ernest.Barnes31@outlook.com  669-792-1661  ************4322  \n",
      "1       Andrea_Baker94@aol.com  858-637-6955  ************9157  \n",
      "2   Rebecca_Parker@comcast.net  652-885-2745  ************3734  \n",
      "3            Laura_M@gmail.com  364-656-8427  ************5677  \n",
      "4           LHines@verizon.com  713-226-5883  ************5498  \n",
      "\n",
      "[5 rows x 36 columns]\n"
     ]
    }
   ],
   "source": [
    "hotel_data = pd.read_table(\"hotel_booking.csv\", delimiter=\";\")\n",
    "print(hotel_data.head())"
   ]
  },
  {
   "cell_type": "code",
   "execution_count": 4,
   "metadata": {},
   "outputs": [
    {
     "name": "stdout",
     "output_type": "stream",
     "text": [
      "119390\n"
     ]
    }
   ],
   "source": [
    "#iso_code to name\n",
    "import country_converter as coco\n",
    "import math\n",
    "hotel_data_first = hotel_data[0:1000]\n",
    "print(len(hotel_data))\n",
    "\n",
    "# count = 0\n",
    "# for i, row in hotel_data_first.iterrows():\n",
    "#     print(hotel_data.loc[i].at['country'])\n",
    "#     if i[13] != 'country' and not type(i[13]) == float:\n",
    "#         name = coco.convert(i[13], to='name_short')\n",
    "#         print('test')\n",
    "#         print(hotel_data_first.loc[i].at['country'])\n",
    "#         # hotel_data_first.loc[i].at['country']=name\n",
    "\n",
    "#     count += 1\n",
    "\n",
    "# for i, row in hotel_data.iterrows():\n",
    "#     if not type(row[13]) == float:\n",
    "#         name = coco.convert(row[13], to='name_short')\n",
    "#         hotel_data.loc[i].at['country']=name\n",
    "\n",
    "# print(hotel_data.head())\n",
    "#standard_names = coco.convert(names=some_names, to='name_short')"
   ]
  },
  {
   "cell_type": "code",
   "execution_count": 5,
   "metadata": {},
   "outputs": [
    {
     "name": "stdout",
     "output_type": "stream",
     "text": [
      "         Country             Region  Population  Area(sq.mi.)  \\\n",
      "0    Afghanistan  ASIA(EX.NEAREAST)    31056997        647500   \n",
      "1        Albania      EASTERNEUROPE     3581655         28748   \n",
      "2        Algeria     NORTHERNAFRICA    32930091       2381740   \n",
      "3  AmericanSamoa            OCEANIA       57794           199   \n",
      "4        Andorra      WESTERNEUROPE       71201           468   \n",
      "\n",
      "   Pop.Density(persq.mi.)  Coastline(coast/arearatio)  Netmigration  \\\n",
      "0                    48.0                        0.00         23.06   \n",
      "1                   124.6                        1.26         -4.93   \n",
      "2                    13.8                        0.04         -0.39   \n",
      "3                   290.4                       58.29        -20.71   \n",
      "4                   152.1                        0.00          6.60   \n",
      "\n",
      "   Infantmortality(per1000births)  GDP($percapita)  Literacy(%)  \\\n",
      "0                          163.07            700.0         36.0   \n",
      "1                           21.52           4500.0         86.5   \n",
      "2                           31.00           6000.0         70.0   \n",
      "3                            9.27           8000.0         97.0   \n",
      "4                            4.05          19000.0        100.0   \n",
      "\n",
      "   Phones(per1000)  Arable(%)  Crops(%)  Other(%)  Climate  Birthrate  \\\n",
      "0              3.2      12.13      0.22     87.65      1.0      46.60   \n",
      "1             71.2      21.09      4.42     74.49      3.0      15.11   \n",
      "2             78.1       3.22      0.25     96.53      1.0      17.14   \n",
      "3            259.5      10.00     15.00     75.00      2.0      22.46   \n",
      "4            497.2       2.22      0.00     97.78      3.0       8.71   \n",
      "\n",
      "   Deathrate  Agriculture  Industry  Service  \n",
      "0      20.34        0.380     0.240    0.380  \n",
      "1       5.22        0.232     0.188    0.579  \n",
      "2       4.61        0.101     0.600    0.298  \n",
      "3       3.27          NaN       NaN      NaN  \n",
      "4       6.25          NaN       NaN      NaN  \n"
     ]
    }
   ],
   "source": [
    "country_data = pd.read_table(\"countries-of-the-world.csv\", delimiter=\";\")\n",
    "print(country_data.head())"
   ]
  },
  {
   "cell_type": "code",
   "execution_count": 6,
   "metadata": {},
   "outputs": [
    {
     "name": "stdout",
     "output_type": "stream",
     "text": [
      "   index  Activity Period Operating Airline Operating Airline IATA Code  \\\n",
      "0      0           200507      ATA Airlines                          TZ   \n",
      "1      1           200507      ATA Airlines                          TZ   \n",
      "2      2           200507      ATA Airlines                          TZ   \n",
      "3      3           200507       Air Canada                           AC   \n",
      "4      4           200507       Air Canada                           AC   \n",
      "\n",
      "  Published Airline Published Airline IATA Code    GEO Summary GEO Region  \\\n",
      "0      ATA Airlines                          TZ       Domestic         US   \n",
      "1      ATA Airlines                          TZ       Domestic         US   \n",
      "2      ATA Airlines                          TZ       Domestic         US   \n",
      "3       Air Canada                           AC  International     Canada   \n",
      "4       Air Canada                           AC  International     Canada   \n",
      "\n",
      "  Activity Type Code Price Category Code    Terminal Boarding Area  \\\n",
      "0           Deplaned            Low Fare  Terminal 1             B   \n",
      "1           Enplaned            Low Fare  Terminal 1             B   \n",
      "2     Thru / Transit            Low Fare  Terminal 1             B   \n",
      "3           Deplaned               Other  Terminal 1             B   \n",
      "4           Enplaned               Other  Terminal 1             B   \n",
      "\n",
      "   Passenger Count Adjusted Activity Type Code  Adjusted Passenger Count  \\\n",
      "0            27271                    Deplaned                     27271   \n",
      "1            29131                    Enplaned                     29131   \n",
      "2             5415          Thru / Transit * 2                     10830   \n",
      "3            35156                    Deplaned                     35156   \n",
      "4            34090                    Enplaned                     34090   \n",
      "\n",
      "   Year Month  \n",
      "0  2005  July  \n",
      "1  2005  July  \n",
      "2  2005  July  \n",
      "3  2005  July  \n",
      "4  2005  July  \n"
     ]
    }
   ],
   "source": [
    "air_data = pd.read_table(\"Air_Traffic_Passenger_Statistics.csv\", delimiter=\";\")\n",
    "print(air_data.head())"
   ]
  },
  {
   "cell_type": "code",
   "execution_count": 7,
   "metadata": {},
   "outputs": [
    {
     "name": "stdout",
     "output_type": "stream",
     "text": [
      "test\n",
      "['hotel', 'is_canceled', 'lead_time', 'arrival_date_year', 'arrival_date_month', 'arrival_date_week_number', 'arrival_date_day_of_month', 'stays_in_weekend_nights', 'stays_in_week_nights', 'adults', 'children', 'babies', 'meal', 'country', 'market_segment', 'distribution_channel', 'is_repeated_guest', 'previous_cancellations', 'previous_bookings_not_canceled', 'reserved_room_type', 'assigned_room_type', 'booking_changes', 'deposit_type', 'agent', 'company', 'days_in_waiting_list', 'customer_type', 'adr', 'required_car_parking_spaces', 'total_of_special_requests', 'reservation_status', 'reservation_status_date', 'name', 'email', 'phone-number', 'credit_card']\n"
     ]
    },
    {
     "name": "stderr",
     "output_type": "stream",
     "text": [
      "TMP not found in ISO3\n"
     ]
    },
    {
     "name": "stdout",
     "output_type": "stream",
     "text": [
      "          is_canceled   lead_time  is_repeated_guest  previous_cancellations  \\\n",
      "country                                                                        \n",
      "Aruba        0.000000  126.000000           0.000000                0.000000   \n",
      "Angola       0.566298   23.096685           0.049724                0.038674   \n",
      "Anguilla     0.000000    0.000000           0.000000                0.000000   \n",
      "Albania      0.166667  103.416667           0.000000                0.000000   \n",
      "Andorra      0.714286   47.000000           0.000000                0.000000   \n",
      "\n",
      "          previous_bookings_not_canceled  booking_changes  \\\n",
      "country                                                     \n",
      "Aruba                           0.000000         0.000000   \n",
      "Angola                          0.088398         0.378453   \n",
      "Anguilla                        0.000000         0.000000   \n",
      "Albania                         0.000000         0.250000   \n",
      "Andorra                         0.000000         0.142857   \n",
      "\n",
      "          stays_in_weekend_nights  stays_in_week_nights    adults  children  \\\n",
      "country                                                                       \n",
      "Aruba                    1.000000              2.500000  2.500000  0.000000   \n",
      "Angola                   2.284530              5.831492  1.574586  0.212707   \n",
      "Anguilla                 2.000000              2.000000  2.000000  2.000000   \n",
      "Albania                  1.000000              2.333333  1.750000  0.000000   \n",
      "Andorra                  1.285714              3.142857  2.142857  0.571429   \n",
      "\n",
      "            babies         adr  required_car_parking_spaces  \n",
      "country                                                      \n",
      "Aruba     0.000000  128.340000                     0.000000  \n",
      "Angola    0.013812  117.122928                     0.030387  \n",
      "Anguilla  0.000000  265.000000                     0.000000  \n",
      "Albania   0.083333   84.353333                     0.000000  \n",
      "Andorra   0.000000  202.652857                     0.285714  \n"
     ]
    }
   ],
   "source": [
    "print('test')\n",
    "print(hotel_data.columns.tolist())\n",
    "\n",
    "grouped = hotel_data.groupby(\"country\")\n",
    "\n",
    "aggregate = grouped.aggregate({\n",
    "    'is_canceled': 'mean',\n",
    "    'lead_time': 'mean',\n",
    "    'is_repeated_guest': 'mean',\n",
    "    'previous_cancellations': 'mean',\n",
    "    'previous_bookings_not_canceled': 'mean',\n",
    "    'booking_changes': 'mean',\n",
    "    'stays_in_weekend_nights': 'mean',\n",
    "    'stays_in_week_nights': 'mean',\n",
    "    'adults': 'mean',\n",
    "    'children': 'mean',\n",
    "    'babies': 'mean',\n",
    "    'adr': 'mean',\n",
    "    'required_car_parking_spaces': 'mean',\n",
    "    'required_car_parking_spaces': 'mean'\n",
    "})\n",
    "# print(grouped.columns.tolist())\n",
    "# aggregate = grouped.aggregate('sum')\n",
    "# print(grouped.head())\n",
    "\n",
    "\n",
    "for i, rows in aggregate.iterrows():\n",
    "    # print(i)\n",
    "    if not type(i) == float:\n",
    "        name = coco.convert(i, to='name_short')\n",
    "        # print(name)\n",
    "        aggregate.rename(index={i : name}, inplace=True)\n",
    "\n",
    "print(aggregate.head())\n",
    "# print(len(aggregate))\n",
    "# for item in aggregate:\n",
    "#     if not type(item[0]) == float:\n",
    "#         name = coco.convert(item[0], to='name_short')\n",
    "#         item=name\n",
    "\n",
    "aggregate.to_csv('output_agg_hotel.csv')\n",
    "\n",
    "# result = df.groupby('Courses')['Fee','Discount'].aggregate('sum')\n",
    "# print(result)"
   ]
  },
  {
   "cell_type": "code",
   "execution_count": 8,
   "metadata": {},
   "outputs": [],
   "source": [
    "grouped_hotel_month = hotel_data.groupby(\"arrival_date_month\")\n",
    "\n",
    "aggregate_hotel_month = grouped_hotel_month.aggregate({\n",
    "    'is_canceled': 'mean',\n",
    "    'lead_time': 'mean',\n",
    "    'is_repeated_guest': 'mean',\n",
    "    'previous_cancellations': 'mean',\n",
    "    'previous_bookings_not_canceled': 'mean',\n",
    "    'booking_changes': 'mean',\n",
    "    'stays_in_weekend_nights': 'mean',\n",
    "    'stays_in_week_nights': 'mean',\n",
    "    'adults': 'mean',\n",
    "    'children': 'mean',\n",
    "    'babies': 'mean',\n",
    "    'adr': 'mean',\n",
    "    'required_car_parking_spaces': 'mean',\n",
    "    'required_car_parking_spaces': 'mean'\n",
    "})\n",
    "\n",
    "grouped_air_month = air_data.groupby(\"Month\")\n",
    "\n",
    "aggregate_air_month = grouped_air_month.aggregate({\n",
    "    'Passenger Count': 'mean',\n",
    "    'Adjusted Passenger Count': 'mean'\n",
    "})"
   ]
  },
  {
   "cell_type": "code",
   "execution_count": 9,
   "metadata": {},
   "outputs": [],
   "source": [
    "# pd.concat([d.query('Col2 > .8').Col1 for d in dfs], keys=range(len(dfs)))\n",
    "\n",
    "# concat = pd.concat([d.query('Col3 = ') for d in aggregate])\n",
    "concat = aggregate.merge(country_data, left_on='country', right_on='Country')    \n",
    "\n",
    "concat.to_csv('concat_output_hotel.csv')"
   ]
  },
  {
   "cell_type": "code",
   "execution_count": 10,
   "metadata": {},
   "outputs": [
    {
     "name": "stdout",
     "output_type": "stream",
     "text": [
      "                                is_canceled  lead_time  is_repeated_guest  \\\n",
      "is_canceled                        1.000000   0.187922           0.055834   \n",
      "lead_time                          0.187922   1.000000          -0.012415   \n",
      "is_repeated_guest                  0.055834  -0.012415           1.000000   \n",
      "previous_cancellations            -0.004530   0.002096           0.503825   \n",
      "previous_bookings_not_canceled     0.047216   0.030946           0.787963   \n",
      "booking_changes                   -0.029316   0.011254          -0.001620   \n",
      "stays_in_weekend_nights           -0.068752  -0.003214           0.036452   \n",
      "stays_in_week_nights               0.086065   0.227018           0.151953   \n",
      "adults                             0.225273   0.020199          -0.126843   \n",
      "children                           0.142774   0.090363          -0.068066   \n",
      "babies                            -0.007919  -0.032828           0.128385   \n",
      "adr                                0.223161   0.034166          -0.038338   \n",
      "required_car_parking_spaces       -0.107725  -0.069721           0.015436   \n",
      "Population                         0.020540  -0.039943           0.017076   \n",
      "Area(sq.mi.)                      -0.013797  -0.020246           0.048733   \n",
      "Pop.Density(persq.mi.)             0.164643  -0.015439          -0.067592   \n",
      "Coastline(coast/arearatio)         0.109026   0.132882          -0.107525   \n",
      "Netmigration                       0.140134   0.035737           0.102303   \n",
      "Infantmortality(per1000births)     0.029594  -0.315745           0.044424   \n",
      "GDP($percapita)                    0.003545   0.299887           0.186890   \n",
      "Literacy(%)                       -0.042975   0.291560           0.021170   \n",
      "Phones(per1000)                    0.049549   0.295696           0.123425   \n",
      "Arable(%)                         -0.082672   0.053738          -0.020843   \n",
      "Crops(%)                          -0.078852  -0.063804           0.039579   \n",
      "Other(%)                           0.103583  -0.023585           0.003520   \n",
      "Climate                            0.011619   0.154349           0.153495   \n",
      "Birthrate                         -0.039685  -0.286526          -0.098163   \n",
      "Deathrate                         -0.114178  -0.045912           0.125988   \n",
      "Agriculture                       -0.091569  -0.281036          -0.168963   \n",
      "Industry                           0.023313  -0.113101           0.147602   \n",
      "Service                            0.061815   0.344990           0.025706   \n",
      "\n",
      "                                previous_cancellations  \\\n",
      "is_canceled                                  -0.004530   \n",
      "lead_time                                     0.002096   \n",
      "is_repeated_guest                             0.503825   \n",
      "previous_cancellations                        1.000000   \n",
      "previous_bookings_not_canceled                0.662491   \n",
      "booking_changes                               0.002490   \n",
      "stays_in_weekend_nights                      -0.029145   \n",
      "stays_in_week_nights                          0.036685   \n",
      "adults                                       -0.039450   \n",
      "children                                     -0.062891   \n",
      "babies                                       -0.002086   \n",
      "adr                                          -0.036907   \n",
      "required_car_parking_spaces                   0.005590   \n",
      "Population                                   -0.028377   \n",
      "Area(sq.mi.)                                 -0.002156   \n",
      "Pop.Density(persq.mi.)                       -0.032759   \n",
      "Coastline(coast/arearatio)                   -0.051064   \n",
      "Netmigration                                  0.052284   \n",
      "Infantmortality(per1000births)               -0.049650   \n",
      "GDP($percapita)                               0.084715   \n",
      "Literacy(%)                                   0.072845   \n",
      "Phones(per1000)                               0.032419   \n",
      "Arable(%)                                    -0.045422   \n",
      "Crops(%)                                     -0.041888   \n",
      "Other(%)                                      0.056365   \n",
      "Climate                                       0.033718   \n",
      "Birthrate                                    -0.064766   \n",
      "Deathrate                                    -0.025780   \n",
      "Agriculture                                  -0.104786   \n",
      "Industry                                      0.043443   \n",
      "Service                                       0.056343   \n",
      "\n",
      "                                previous_bookings_not_canceled  \\\n",
      "is_canceled                                           0.047216   \n",
      "lead_time                                             0.030946   \n",
      "is_repeated_guest                                     0.787963   \n",
      "previous_cancellations                                0.662491   \n",
      "previous_bookings_not_canceled                        1.000000   \n",
      "booking_changes                                      -0.010566   \n",
      "stays_in_weekend_nights                              -0.017685   \n",
      "stays_in_week_nights                                  0.044301   \n",
      "adults                                               -0.085108   \n",
      "children                                             -0.065814   \n",
      "babies                                                0.014719   \n",
      "adr                                                  -0.063545   \n",
      "required_car_parking_spaces                           0.029954   \n",
      "Population                                           -0.025956   \n",
      "Area(sq.mi.)                                         -0.006328   \n",
      "Pop.Density(persq.mi.)                               -0.027185   \n",
      "Coastline(coast/arearatio)                           -0.068999   \n",
      "Netmigration                                          0.122116   \n",
      "Infantmortality(per1000births)                       -0.057918   \n",
      "GDP($percapita)                                       0.181869   \n",
      "Literacy(%)                                           0.077061   \n",
      "Phones(per1000)                                       0.103685   \n",
      "Arable(%)                                            -0.006501   \n",
      "Crops(%)                                             -0.003540   \n",
      "Other(%)                                              0.007143   \n",
      "Climate                                               0.104261   \n",
      "Birthrate                                            -0.128271   \n",
      "Deathrate                                             0.035453   \n",
      "Agriculture                                          -0.164007   \n",
      "Industry                                              0.068123   \n",
      "Service                                               0.088268   \n",
      "\n",
      "                                booking_changes  stays_in_weekend_nights  \\\n",
      "is_canceled                           -0.029316                -0.068752   \n",
      "lead_time                              0.011254                -0.003214   \n",
      "is_repeated_guest                     -0.001620                 0.036452   \n",
      "previous_cancellations                 0.002490                -0.029145   \n",
      "previous_bookings_not_canceled        -0.010566                -0.017685   \n",
      "booking_changes                        1.000000                -0.031582   \n",
      "stays_in_weekend_nights               -0.031582                 1.000000   \n",
      "stays_in_week_nights                   0.065954                 0.490845   \n",
      "adults                                -0.157229                -0.024052   \n",
      "children                               0.125191                -0.040201   \n",
      "babies                                 0.013210                 0.006746   \n",
      "adr                                   -0.058013                 0.031859   \n",
      "required_car_parking_spaces           -0.091116                -0.050936   \n",
      "Population                            -0.022478                -0.017491   \n",
      "Area(sq.mi.)                          -0.008359                 0.016917   \n",
      "Pop.Density(persq.mi.)                -0.041442                -0.037566   \n",
      "Coastline(coast/arearatio)            -0.109212                 0.098632   \n",
      "Netmigration                          -0.047907                 0.090894   \n",
      "Infantmortality(per1000births)         0.003010                 0.138005   \n",
      "GDP($percapita)                       -0.041264                -0.041797   \n",
      "Literacy(%)                           -0.022281                -0.158145   \n",
      "Phones(per1000)                       -0.098727                -0.061852   \n",
      "Arable(%)                             -0.119380                -0.018779   \n",
      "Crops(%)                              -0.055152                -0.071937   \n",
      "Other(%)                               0.127231                 0.044020   \n",
      "Climate                               -0.173053                -0.004173   \n",
      "Birthrate                             -0.039933                 0.078885   \n",
      "Deathrate                              0.182045                 0.128486   \n",
      "Agriculture                           -0.050579                 0.067479   \n",
      "Industry                               0.145992                 0.000334   \n",
      "Service                               -0.079193                -0.062460   \n",
      "\n",
      "                                stays_in_week_nights    adults  children  ...  \\\n",
      "is_canceled                                 0.086065  0.225273  0.142774  ...   \n",
      "lead_time                                   0.227018  0.020199  0.090363  ...   \n",
      "is_repeated_guest                           0.151953 -0.126843 -0.068066  ...   \n",
      "previous_cancellations                      0.036685 -0.039450 -0.062891  ...   \n",
      "previous_bookings_not_canceled              0.044301 -0.085108 -0.065814  ...   \n",
      "booking_changes                             0.065954 -0.157229  0.125191  ...   \n",
      "stays_in_weekend_nights                     0.490845 -0.024052 -0.040201  ...   \n",
      "stays_in_week_nights                        1.000000 -0.039878 -0.089565  ...   \n",
      "adults                                     -0.039878  1.000000  0.120782  ...   \n",
      "children                                   -0.089565  0.120782  1.000000  ...   \n",
      "babies                                      0.019053 -0.059008 -0.066510  ...   \n",
      "adr                                         0.011302  0.241652  0.613664  ...   \n",
      "required_car_parking_spaces                -0.048353  0.120340 -0.048260  ...   \n",
      "Population                                 -0.036417  0.040900 -0.032268  ...   \n",
      "Area(sq.mi.)                               -0.032676  0.010608 -0.051888  ...   \n",
      "Pop.Density(persq.mi.)                     -0.089001  0.011312 -0.078671  ...   \n",
      "Coastline(coast/arearatio)                  0.073567 -0.025357 -0.016246  ...   \n",
      "Netmigration                               -0.042300  0.110021  0.067468  ...   \n",
      "Infantmortality(per1000births)              0.102198 -0.092691  0.114358  ...   \n",
      "GDP($percapita)                             0.031065  0.130530 -0.111047  ...   \n",
      "Literacy(%)                                -0.101272  0.060762 -0.039100  ...   \n",
      "Phones(per1000)                            -0.012827  0.126925 -0.113635  ...   \n",
      "Arable(%)                                   0.118963  0.005718 -0.108631  ...   \n",
      "Crops(%)                                   -0.022481 -0.221227 -0.005544  ...   \n",
      "Other(%)                                   -0.097383  0.079043  0.098768  ...   \n",
      "Climate                                     0.105155  0.008920 -0.144297  ...   \n",
      "Birthrate                                  -0.030929 -0.076769  0.140293  ...   \n",
      "Deathrate                                   0.141853 -0.042656  0.084743  ...   \n",
      "Agriculture                                 0.009347 -0.049105 -0.052612  ...   \n",
      "Industry                                    0.122206 -0.046032 -0.072453  ...   \n",
      "Service                                    -0.111680  0.083399  0.107011  ...   \n",
      "\n",
      "                                Phones(per1000)  Arable(%)  Crops(%)  \\\n",
      "is_canceled                            0.049549  -0.082672 -0.078852   \n",
      "lead_time                              0.295696   0.053738 -0.063804   \n",
      "is_repeated_guest                      0.123425  -0.020843  0.039579   \n",
      "previous_cancellations                 0.032419  -0.045422 -0.041888   \n",
      "previous_bookings_not_canceled         0.103685  -0.006501 -0.003540   \n",
      "booking_changes                       -0.098727  -0.119380 -0.055152   \n",
      "stays_in_weekend_nights               -0.061852  -0.018779 -0.071937   \n",
      "stays_in_week_nights                  -0.012827   0.118963 -0.022481   \n",
      "adults                                 0.126925   0.005718 -0.221227   \n",
      "children                              -0.113635  -0.108631 -0.005544   \n",
      "babies                                 0.003884   0.148379 -0.003269   \n",
      "adr                                    0.065557  -0.193513 -0.058265   \n",
      "required_car_parking_spaces            0.047982   0.062684 -0.093634   \n",
      "Population                            -0.053511   0.143952 -0.046884   \n",
      "Area(sq.mi.)                          -0.028063  -0.104308 -0.134359   \n",
      "Pop.Density(persq.mi.)                 0.332116  -0.134661 -0.065146   \n",
      "Coastline(coast/arearatio)             0.295292  -0.175823  0.251897   \n",
      "Netmigration                           0.359091  -0.094980 -0.206062   \n",
      "Infantmortality(per1000births)        -0.683424  -0.079433  0.036729   \n",
      "GDP($percapita)                        0.824850   0.011501 -0.209241   \n",
      "Literacy(%)                            0.635134   0.019052 -0.079388   \n",
      "Phones(per1000)                        1.000000   0.029080 -0.180540   \n",
      "Arable(%)                              0.029080   1.000000  0.093464   \n",
      "Crops(%)                              -0.180540   0.093464  1.000000   \n",
      "Other(%)                               0.042850  -0.925578 -0.463407   \n",
      "Climate                                0.504377   0.339846 -0.009655   \n",
      "Birthrate                             -0.750780  -0.142088  0.148531   \n",
      "Deathrate                             -0.156779   0.098840 -0.119610   \n",
      "Agriculture                           -0.595929   0.055389  0.121361   \n",
      "Industry                              -0.095679  -0.138502 -0.136515   \n",
      "Service                                0.649903   0.065379  0.004926   \n",
      "\n",
      "                                Other(%)   Climate  Birthrate  Deathrate  \\\n",
      "is_canceled                     0.103583  0.011619  -0.039685  -0.114178   \n",
      "lead_time                      -0.023585  0.154349  -0.286526  -0.045912   \n",
      "is_repeated_guest               0.003520  0.153495  -0.098163   0.125988   \n",
      "previous_cancellations          0.056365  0.033718  -0.064766  -0.025780   \n",
      "previous_bookings_not_canceled  0.007143  0.104261  -0.128271   0.035453   \n",
      "booking_changes                 0.127231 -0.173053  -0.039933   0.182045   \n",
      "stays_in_weekend_nights         0.044020 -0.004173   0.078885   0.128486   \n",
      "stays_in_week_nights           -0.097383  0.105155  -0.030929   0.141853   \n",
      "adults                          0.079043  0.008920  -0.076769  -0.042656   \n",
      "children                        0.098768 -0.144297   0.140293   0.084743   \n",
      "babies                         -0.130813  0.079455  -0.097817   0.005079   \n",
      "adr                             0.194416 -0.101698  -0.061055  -0.091366   \n",
      "required_car_parking_spaces    -0.020267  0.099263  -0.032291   0.103357   \n",
      "Population                     -0.110289 -0.106489  -0.061306  -0.072135   \n",
      "Area(sq.mi.)                    0.143962 -0.193055  -0.081543   0.018077   \n",
      "Pop.Density(persq.mi.)          0.144640 -0.024630  -0.175757  -0.059743   \n",
      "Coastline(coast/arearatio)      0.060730 -0.031586  -0.097900  -0.101170   \n",
      "Netmigration                    0.162894 -0.021602  -0.153132  -0.080471   \n",
      "Infantmortality(per1000births)  0.056770 -0.414225   0.861533   0.562190   \n",
      "GDP($percapita)                 0.069300  0.436704  -0.650063  -0.157157   \n",
      "Literacy(%)                     0.005890  0.432914  -0.763867  -0.244554   \n",
      "Phones(per1000)                 0.042850  0.504377  -0.750780  -0.156779   \n",
      "Arable(%)                      -0.925578  0.339846  -0.142088   0.098840   \n",
      "Crops(%)                       -0.463407 -0.009655   0.148531  -0.119610   \n",
      "Other(%)                        1.000000 -0.298249   0.069521  -0.042108   \n",
      "Climate                        -0.298249  1.000000  -0.489783   0.072049   \n",
      "Birthrate                       0.069521 -0.489783   1.000000   0.339951   \n",
      "Deathrate                      -0.042108  0.072049   0.339951   1.000000   \n",
      "Agriculture                    -0.095818 -0.207368   0.721117   0.313447   \n",
      "Industry                        0.176067 -0.173009  -0.116488  -0.057887   \n",
      "Service                        -0.060242  0.331923  -0.548317  -0.229406   \n",
      "\n",
      "                                Agriculture  Industry   Service  \n",
      "is_canceled                       -0.091569  0.023313  0.061815  \n",
      "lead_time                         -0.281036 -0.113101  0.344990  \n",
      "is_repeated_guest                 -0.168963  0.147602  0.025706  \n",
      "previous_cancellations            -0.104786  0.043443  0.056343  \n",
      "previous_bookings_not_canceled    -0.164007  0.068123  0.088268  \n",
      "booking_changes                   -0.050579  0.145992 -0.079193  \n",
      "stays_in_weekend_nights            0.067479  0.000334 -0.062460  \n",
      "stays_in_week_nights               0.009347  0.122206 -0.111680  \n",
      "adults                            -0.049105 -0.046032  0.083399  \n",
      "children                          -0.052612 -0.072453  0.107011  \n",
      "babies                            -0.049769  0.070831 -0.015998  \n",
      "adr                               -0.173951  0.028401  0.130006  \n",
      "required_car_parking_spaces       -0.053851 -0.016752  0.060993  \n",
      "Population                         0.013012  0.175891 -0.159353  \n",
      "Area(sq.mi.)                      -0.045883  0.219083 -0.143734  \n",
      "Pop.Density(persq.mi.)            -0.087743 -0.168953  0.264621  \n",
      "Coastline(coast/arearatio)        -0.121196 -0.252728  0.337084  \n",
      "Netmigration                      -0.267050  0.116885  0.146397  \n",
      "Infantmortality(per1000births)     0.716285 -0.027910 -0.617131  \n",
      "GDP($percapita)                   -0.616226 -0.004283  0.560038  \n",
      "Literacy(%)                       -0.605754  0.040612  0.528648  \n",
      "Phones(per1000)                   -0.595929 -0.095679  0.649903  \n",
      "Arable(%)                          0.055389 -0.138502  0.065379  \n",
      "Crops(%)                           0.121361 -0.136515  0.004926  \n",
      "Other(%)                          -0.095818  0.176067 -0.060242  \n",
      "Climate                           -0.207368 -0.173009  0.331923  \n",
      "Birthrate                          0.721117 -0.116488 -0.548317  \n",
      "Deathrate                          0.313447 -0.057887 -0.229406  \n",
      "Agriculture                        1.000000 -0.334005 -0.608989  \n",
      "Industry                          -0.334005  1.000000 -0.544215  \n",
      "Service                           -0.608989 -0.544215  1.000000  \n",
      "\n",
      "[31 rows x 31 columns]\n"
     ]
    },
    {
     "name": "stderr",
     "output_type": "stream",
     "text": [
      "C:\\Users\\jacob\\AppData\\Local\\Temp\\ipykernel_17500\\3205264855.py:1: FutureWarning: The default value of numeric_only in DataFrame.corr is deprecated. In a future version, it will default to False. Select only valid columns or specify the value of numeric_only to silence this warning.\n",
      "  print(concat.corr())\n"
     ]
    }
   ],
   "source": [
    "print(concat.corr())"
   ]
  },
  {
   "cell_type": "code",
   "execution_count": 16,
   "metadata": {},
   "outputs": [
    {
     "name": "stdout",
     "output_type": "stream",
     "text": [
      "                                is_canceled  lead_time  is_repeated_guest  \\\n",
      "is_canceled                        1.000000   0.811308          -0.828496   \n",
      "lead_time                          0.811308   1.000000          -0.916600   \n",
      "is_repeated_guest                 -0.828496  -0.916600           1.000000   \n",
      "previous_cancellations             0.138441   0.354471          -0.260676   \n",
      "previous_bookings_not_canceled    -0.639536  -0.773557           0.911444   \n",
      "booking_changes                   -0.418069  -0.269223           0.186785   \n",
      "stays_in_weekend_nights            0.580017   0.713549          -0.772345   \n",
      "stays_in_week_nights               0.404774   0.644963          -0.693137   \n",
      "adults                             0.655268   0.710670          -0.806702   \n",
      "children                           0.248856   0.302142          -0.395589   \n",
      "babies                            -0.074464   0.110584          -0.147674   \n",
      "adr                                0.719670   0.819050          -0.843347   \n",
      "required_car_parking_spaces       -0.672759  -0.544901           0.583757   \n",
      "Passenger Count                    0.610009   0.814714          -0.764004   \n",
      "Adjusted Passenger Count           0.609675   0.814219          -0.763840   \n",
      "\n",
      "                                previous_cancellations  \\\n",
      "is_canceled                                   0.138441   \n",
      "lead_time                                     0.354471   \n",
      "is_repeated_guest                            -0.260676   \n",
      "previous_cancellations                        1.000000   \n",
      "previous_bookings_not_canceled               -0.381007   \n",
      "booking_changes                              -0.298646   \n",
      "stays_in_weekend_nights                       0.218675   \n",
      "stays_in_week_nights                         -0.041497   \n",
      "adults                                        0.173191   \n",
      "children                                     -0.098718   \n",
      "babies                                        0.185226   \n",
      "adr                                           0.055794   \n",
      "required_car_parking_spaces                  -0.144517   \n",
      "Passenger Count                              -0.073320   \n",
      "Adjusted Passenger Count                     -0.073226   \n",
      "\n",
      "                                previous_bookings_not_canceled  \\\n",
      "is_canceled                                          -0.639536   \n",
      "lead_time                                            -0.773557   \n",
      "is_repeated_guest                                     0.911444   \n",
      "previous_cancellations                               -0.381007   \n",
      "previous_bookings_not_canceled                        1.000000   \n",
      "booking_changes                                       0.173704   \n",
      "stays_in_weekend_nights                              -0.652245   \n",
      "stays_in_week_nights                                 -0.498265   \n",
      "adults                                               -0.692193   \n",
      "children                                             -0.304798   \n",
      "babies                                               -0.191707   \n",
      "adr                                                  -0.644910   \n",
      "required_car_parking_spaces                           0.543530   \n",
      "Passenger Count                                      -0.553782   \n",
      "Adjusted Passenger Count                             -0.553608   \n",
      "\n",
      "                                booking_changes  stays_in_weekend_nights  \\\n",
      "is_canceled                           -0.418069                 0.580017   \n",
      "lead_time                             -0.269223                 0.713549   \n",
      "is_repeated_guest                      0.186785                -0.772345   \n",
      "previous_cancellations                -0.298646                 0.218675   \n",
      "previous_bookings_not_canceled         0.173704                -0.652245   \n",
      "booking_changes                        1.000000                -0.020470   \n",
      "stays_in_weekend_nights               -0.020470                 1.000000   \n",
      "stays_in_week_nights                   0.182841                 0.796162   \n",
      "adults                                -0.039578                 0.967383   \n",
      "children                               0.312196                 0.828678   \n",
      "babies                                 0.522105                 0.457248   \n",
      "adr                                    0.042478                 0.878555   \n",
      "required_car_parking_spaces            0.708441                -0.103801   \n",
      "Passenger Count                        0.107050                 0.745510   \n",
      "Adjusted Passenger Count               0.106764                 0.746658   \n",
      "\n",
      "                                stays_in_week_nights    adults  children  \\\n",
      "is_canceled                                 0.404774  0.655268  0.248856   \n",
      "lead_time                                   0.644963  0.710670  0.302142   \n",
      "is_repeated_guest                          -0.693137 -0.806702 -0.395589   \n",
      "previous_cancellations                     -0.041497  0.173191 -0.098718   \n",
      "previous_bookings_not_canceled             -0.498265 -0.692193 -0.304798   \n",
      "booking_changes                             0.182841 -0.039578  0.312196   \n",
      "stays_in_weekend_nights                     0.796162  0.967383  0.828678   \n",
      "stays_in_week_nights                        1.000000  0.790573  0.676052   \n",
      "adults                                      0.790573  1.000000  0.819240   \n",
      "children                                    0.676052  0.819240  1.000000   \n",
      "babies                                      0.459915  0.497044  0.716265   \n",
      "adr                                         0.851587  0.902664  0.720525   \n",
      "required_car_parking_spaces                -0.056816 -0.179018  0.358663   \n",
      "Passenger Count                             0.854485  0.759298  0.566147   \n",
      "Adjusted Passenger Count                    0.854891  0.760300  0.567459   \n",
      "\n",
      "                                  babies       adr  \\\n",
      "is_canceled                    -0.074464  0.719670   \n",
      "lead_time                       0.110584  0.819050   \n",
      "is_repeated_guest              -0.147674 -0.843347   \n",
      "previous_cancellations          0.185226  0.055794   \n",
      "previous_bookings_not_canceled -0.191707 -0.644910   \n",
      "booking_changes                 0.522105  0.042478   \n",
      "stays_in_weekend_nights         0.457248  0.878555   \n",
      "stays_in_week_nights            0.459915  0.851587   \n",
      "adults                          0.497044  0.902664   \n",
      "children                        0.716265  0.720525   \n",
      "babies                          1.000000  0.435206   \n",
      "adr                             0.435206  1.000000   \n",
      "required_car_parking_spaces     0.580253 -0.225182   \n",
      "Passenger Count                 0.311911  0.865183   \n",
      "Adjusted Passenger Count        0.311941  0.865360   \n",
      "\n",
      "                                required_car_parking_spaces  Passenger Count  \\\n",
      "is_canceled                                       -0.672759         0.610009   \n",
      "lead_time                                         -0.544901         0.814714   \n",
      "is_repeated_guest                                  0.583757        -0.764004   \n",
      "previous_cancellations                            -0.144517        -0.073320   \n",
      "previous_bookings_not_canceled                     0.543530        -0.553782   \n",
      "booking_changes                                    0.708441         0.107050   \n",
      "stays_in_weekend_nights                           -0.103801         0.745510   \n",
      "stays_in_week_nights                              -0.056816         0.854485   \n",
      "adults                                            -0.179018         0.759298   \n",
      "children                                           0.358663         0.566147   \n",
      "babies                                             0.580253         0.311911   \n",
      "adr                                               -0.225182         0.865183   \n",
      "required_car_parking_spaces                        1.000000        -0.192366   \n",
      "Passenger Count                                   -0.192366         1.000000   \n",
      "Adjusted Passenger Count                          -0.191758         0.999995   \n",
      "\n",
      "                                Adjusted Passenger Count  \n",
      "is_canceled                                     0.609675  \n",
      "lead_time                                       0.814219  \n",
      "is_repeated_guest                              -0.763840  \n",
      "previous_cancellations                         -0.073226  \n",
      "previous_bookings_not_canceled                 -0.553608  \n",
      "booking_changes                                 0.106764  \n",
      "stays_in_weekend_nights                         0.746658  \n",
      "stays_in_week_nights                            0.854891  \n",
      "adults                                          0.760300  \n",
      "children                                        0.567459  \n",
      "babies                                          0.311941  \n",
      "adr                                             0.865360  \n",
      "required_car_parking_spaces                    -0.191758  \n",
      "Passenger Count                                 0.999995  \n",
      "Adjusted Passenger Count                        1.000000  \n"
     ]
    }
   ],
   "source": [
    "concat_air = aggregate_hotel_month.merge(aggregate_air_month, left_on='arrival_date_month', right_on='Month', how='left')\n",
    "\n",
    "concat_air.to_csv('concat_output_air.csv')\n",
    "\n",
    "print(concat_air.corr())"
   ]
  },
  {
   "cell_type": "code",
   "execution_count": 101,
   "metadata": {},
   "outputs": [
    {
     "data": {
      "application/vnd.plotly.v1+json": {
       "config": {
        "plotlyServerURL": "https://plot.ly"
       },
       "data": [
        {
         "name": "Passenger Count",
         "type": "bar",
         "x": [
          0,
          1,
          2,
          3,
          4,
          5,
          6,
          7,
          8,
          9,
          10,
          11
         ],
         "xaxis": "x",
         "y": [
          28813.577893820715,
          32636.380916030535,
          28723.198570293884,
          24258.40796812749,
          26094.37066246057,
          32657.033768227167,
          31886.650887573964,
          29359.807661612133,
          30340.417235494882,
          27702.751385589865,
          29645.857915057913,
          28725.348496530456
         ],
         "yaxis": "y"
        },
        {
         "line": {
          "width": 4
         },
         "marker": {
          "size": 12
         },
         "name": "Stays in week nights",
         "type": "scatter",
         "x": [
          0,
          1,
          2,
          3,
          4,
          5,
          6,
          7,
          8,
          9,
          10,
          11
         ],
         "xaxis": "x",
         "y": [
          2.4181621426639013,
          2.836419975499027,
          2.3575221238938053,
          2.1779871095686665,
          2.1921065947039975,
          2.8055445857357237,
          2.6554529664503153,
          2.5606493771696957,
          2.4069205326096177,
          2.4040329702678833,
          2.2307347670250897,
          2.5243623905595736
         ],
         "yaxis": "y2"
        },
        {
         "line": {
          "width": 4
         },
         "marker": {
          "size": 12
         },
         "name": "Stays in weekend nights",
         "type": "scatter",
         "x": [
          0,
          1,
          2,
          3,
          4,
          5,
          6,
          7,
          8,
          9,
          10,
          11
         ],
         "xaxis": "x",
         "y": [
          0.9486878888989089,
          1.0604597535490379,
          0.8650442477876106,
          0.8531234506693108,
          0.7793894417271041,
          1.1202906563462602,
          0.9203766340616144,
          0.8586889932611803,
          0.8696463404291409,
          0.7851045039740948,
          0.8953405017921147,
          0.9420441568328892
         ],
         "yaxis": "y2"
        }
       ],
       "layout": {
        "template": {
         "data": {
          "bar": [
           {
            "error_x": {
             "color": "#2a3f5f"
            },
            "error_y": {
             "color": "#2a3f5f"
            },
            "marker": {
             "line": {
              "color": "#E5ECF6",
              "width": 0.5
             },
             "pattern": {
              "fillmode": "overlay",
              "size": 10,
              "solidity": 0.2
             }
            },
            "type": "bar"
           }
          ],
          "barpolar": [
           {
            "marker": {
             "line": {
              "color": "#E5ECF6",
              "width": 0.5
             },
             "pattern": {
              "fillmode": "overlay",
              "size": 10,
              "solidity": 0.2
             }
            },
            "type": "barpolar"
           }
          ],
          "carpet": [
           {
            "aaxis": {
             "endlinecolor": "#2a3f5f",
             "gridcolor": "white",
             "linecolor": "white",
             "minorgridcolor": "white",
             "startlinecolor": "#2a3f5f"
            },
            "baxis": {
             "endlinecolor": "#2a3f5f",
             "gridcolor": "white",
             "linecolor": "white",
             "minorgridcolor": "white",
             "startlinecolor": "#2a3f5f"
            },
            "type": "carpet"
           }
          ],
          "choropleth": [
           {
            "colorbar": {
             "outlinewidth": 0,
             "ticks": ""
            },
            "type": "choropleth"
           }
          ],
          "contour": [
           {
            "colorbar": {
             "outlinewidth": 0,
             "ticks": ""
            },
            "colorscale": [
             [
              0,
              "#0d0887"
             ],
             [
              0.1111111111111111,
              "#46039f"
             ],
             [
              0.2222222222222222,
              "#7201a8"
             ],
             [
              0.3333333333333333,
              "#9c179e"
             ],
             [
              0.4444444444444444,
              "#bd3786"
             ],
             [
              0.5555555555555556,
              "#d8576b"
             ],
             [
              0.6666666666666666,
              "#ed7953"
             ],
             [
              0.7777777777777778,
              "#fb9f3a"
             ],
             [
              0.8888888888888888,
              "#fdca26"
             ],
             [
              1,
              "#f0f921"
             ]
            ],
            "type": "contour"
           }
          ],
          "contourcarpet": [
           {
            "colorbar": {
             "outlinewidth": 0,
             "ticks": ""
            },
            "type": "contourcarpet"
           }
          ],
          "heatmap": [
           {
            "colorbar": {
             "outlinewidth": 0,
             "ticks": ""
            },
            "colorscale": [
             [
              0,
              "#0d0887"
             ],
             [
              0.1111111111111111,
              "#46039f"
             ],
             [
              0.2222222222222222,
              "#7201a8"
             ],
             [
              0.3333333333333333,
              "#9c179e"
             ],
             [
              0.4444444444444444,
              "#bd3786"
             ],
             [
              0.5555555555555556,
              "#d8576b"
             ],
             [
              0.6666666666666666,
              "#ed7953"
             ],
             [
              0.7777777777777778,
              "#fb9f3a"
             ],
             [
              0.8888888888888888,
              "#fdca26"
             ],
             [
              1,
              "#f0f921"
             ]
            ],
            "type": "heatmap"
           }
          ],
          "heatmapgl": [
           {
            "colorbar": {
             "outlinewidth": 0,
             "ticks": ""
            },
            "colorscale": [
             [
              0,
              "#0d0887"
             ],
             [
              0.1111111111111111,
              "#46039f"
             ],
             [
              0.2222222222222222,
              "#7201a8"
             ],
             [
              0.3333333333333333,
              "#9c179e"
             ],
             [
              0.4444444444444444,
              "#bd3786"
             ],
             [
              0.5555555555555556,
              "#d8576b"
             ],
             [
              0.6666666666666666,
              "#ed7953"
             ],
             [
              0.7777777777777778,
              "#fb9f3a"
             ],
             [
              0.8888888888888888,
              "#fdca26"
             ],
             [
              1,
              "#f0f921"
             ]
            ],
            "type": "heatmapgl"
           }
          ],
          "histogram": [
           {
            "marker": {
             "pattern": {
              "fillmode": "overlay",
              "size": 10,
              "solidity": 0.2
             }
            },
            "type": "histogram"
           }
          ],
          "histogram2d": [
           {
            "colorbar": {
             "outlinewidth": 0,
             "ticks": ""
            },
            "colorscale": [
             [
              0,
              "#0d0887"
             ],
             [
              0.1111111111111111,
              "#46039f"
             ],
             [
              0.2222222222222222,
              "#7201a8"
             ],
             [
              0.3333333333333333,
              "#9c179e"
             ],
             [
              0.4444444444444444,
              "#bd3786"
             ],
             [
              0.5555555555555556,
              "#d8576b"
             ],
             [
              0.6666666666666666,
              "#ed7953"
             ],
             [
              0.7777777777777778,
              "#fb9f3a"
             ],
             [
              0.8888888888888888,
              "#fdca26"
             ],
             [
              1,
              "#f0f921"
             ]
            ],
            "type": "histogram2d"
           }
          ],
          "histogram2dcontour": [
           {
            "colorbar": {
             "outlinewidth": 0,
             "ticks": ""
            },
            "colorscale": [
             [
              0,
              "#0d0887"
             ],
             [
              0.1111111111111111,
              "#46039f"
             ],
             [
              0.2222222222222222,
              "#7201a8"
             ],
             [
              0.3333333333333333,
              "#9c179e"
             ],
             [
              0.4444444444444444,
              "#bd3786"
             ],
             [
              0.5555555555555556,
              "#d8576b"
             ],
             [
              0.6666666666666666,
              "#ed7953"
             ],
             [
              0.7777777777777778,
              "#fb9f3a"
             ],
             [
              0.8888888888888888,
              "#fdca26"
             ],
             [
              1,
              "#f0f921"
             ]
            ],
            "type": "histogram2dcontour"
           }
          ],
          "mesh3d": [
           {
            "colorbar": {
             "outlinewidth": 0,
             "ticks": ""
            },
            "type": "mesh3d"
           }
          ],
          "parcoords": [
           {
            "line": {
             "colorbar": {
              "outlinewidth": 0,
              "ticks": ""
             }
            },
            "type": "parcoords"
           }
          ],
          "pie": [
           {
            "automargin": true,
            "type": "pie"
           }
          ],
          "scatter": [
           {
            "fillpattern": {
             "fillmode": "overlay",
             "size": 10,
             "solidity": 0.2
            },
            "type": "scatter"
           }
          ],
          "scatter3d": [
           {
            "line": {
             "colorbar": {
              "outlinewidth": 0,
              "ticks": ""
             }
            },
            "marker": {
             "colorbar": {
              "outlinewidth": 0,
              "ticks": ""
             }
            },
            "type": "scatter3d"
           }
          ],
          "scattercarpet": [
           {
            "marker": {
             "colorbar": {
              "outlinewidth": 0,
              "ticks": ""
             }
            },
            "type": "scattercarpet"
           }
          ],
          "scattergeo": [
           {
            "marker": {
             "colorbar": {
              "outlinewidth": 0,
              "ticks": ""
             }
            },
            "type": "scattergeo"
           }
          ],
          "scattergl": [
           {
            "marker": {
             "colorbar": {
              "outlinewidth": 0,
              "ticks": ""
             }
            },
            "type": "scattergl"
           }
          ],
          "scattermapbox": [
           {
            "marker": {
             "colorbar": {
              "outlinewidth": 0,
              "ticks": ""
             }
            },
            "type": "scattermapbox"
           }
          ],
          "scatterpolar": [
           {
            "marker": {
             "colorbar": {
              "outlinewidth": 0,
              "ticks": ""
             }
            },
            "type": "scatterpolar"
           }
          ],
          "scatterpolargl": [
           {
            "marker": {
             "colorbar": {
              "outlinewidth": 0,
              "ticks": ""
             }
            },
            "type": "scatterpolargl"
           }
          ],
          "scatterternary": [
           {
            "marker": {
             "colorbar": {
              "outlinewidth": 0,
              "ticks": ""
             }
            },
            "type": "scatterternary"
           }
          ],
          "surface": [
           {
            "colorbar": {
             "outlinewidth": 0,
             "ticks": ""
            },
            "colorscale": [
             [
              0,
              "#0d0887"
             ],
             [
              0.1111111111111111,
              "#46039f"
             ],
             [
              0.2222222222222222,
              "#7201a8"
             ],
             [
              0.3333333333333333,
              "#9c179e"
             ],
             [
              0.4444444444444444,
              "#bd3786"
             ],
             [
              0.5555555555555556,
              "#d8576b"
             ],
             [
              0.6666666666666666,
              "#ed7953"
             ],
             [
              0.7777777777777778,
              "#fb9f3a"
             ],
             [
              0.8888888888888888,
              "#fdca26"
             ],
             [
              1,
              "#f0f921"
             ]
            ],
            "type": "surface"
           }
          ],
          "table": [
           {
            "cells": {
             "fill": {
              "color": "#EBF0F8"
             },
             "line": {
              "color": "white"
             }
            },
            "header": {
             "fill": {
              "color": "#C8D4E3"
             },
             "line": {
              "color": "white"
             }
            },
            "type": "table"
           }
          ]
         },
         "layout": {
          "annotationdefaults": {
           "arrowcolor": "#2a3f5f",
           "arrowhead": 0,
           "arrowwidth": 1
          },
          "autotypenumbers": "strict",
          "coloraxis": {
           "colorbar": {
            "outlinewidth": 0,
            "ticks": ""
           }
          },
          "colorscale": {
           "diverging": [
            [
             0,
             "#8e0152"
            ],
            [
             0.1,
             "#c51b7d"
            ],
            [
             0.2,
             "#de77ae"
            ],
            [
             0.3,
             "#f1b6da"
            ],
            [
             0.4,
             "#fde0ef"
            ],
            [
             0.5,
             "#f7f7f7"
            ],
            [
             0.6,
             "#e6f5d0"
            ],
            [
             0.7,
             "#b8e186"
            ],
            [
             0.8,
             "#7fbc41"
            ],
            [
             0.9,
             "#4d9221"
            ],
            [
             1,
             "#276419"
            ]
           ],
           "sequential": [
            [
             0,
             "#0d0887"
            ],
            [
             0.1111111111111111,
             "#46039f"
            ],
            [
             0.2222222222222222,
             "#7201a8"
            ],
            [
             0.3333333333333333,
             "#9c179e"
            ],
            [
             0.4444444444444444,
             "#bd3786"
            ],
            [
             0.5555555555555556,
             "#d8576b"
            ],
            [
             0.6666666666666666,
             "#ed7953"
            ],
            [
             0.7777777777777778,
             "#fb9f3a"
            ],
            [
             0.8888888888888888,
             "#fdca26"
            ],
            [
             1,
             "#f0f921"
            ]
           ],
           "sequentialminus": [
            [
             0,
             "#0d0887"
            ],
            [
             0.1111111111111111,
             "#46039f"
            ],
            [
             0.2222222222222222,
             "#7201a8"
            ],
            [
             0.3333333333333333,
             "#9c179e"
            ],
            [
             0.4444444444444444,
             "#bd3786"
            ],
            [
             0.5555555555555556,
             "#d8576b"
            ],
            [
             0.6666666666666666,
             "#ed7953"
            ],
            [
             0.7777777777777778,
             "#fb9f3a"
            ],
            [
             0.8888888888888888,
             "#fdca26"
            ],
            [
             1,
             "#f0f921"
            ]
           ]
          },
          "colorway": [
           "#636efa",
           "#EF553B",
           "#00cc96",
           "#ab63fa",
           "#FFA15A",
           "#19d3f3",
           "#FF6692",
           "#B6E880",
           "#FF97FF",
           "#FECB52"
          ],
          "font": {
           "color": "#2a3f5f"
          },
          "geo": {
           "bgcolor": "white",
           "lakecolor": "white",
           "landcolor": "#E5ECF6",
           "showlakes": true,
           "showland": true,
           "subunitcolor": "white"
          },
          "hoverlabel": {
           "align": "left"
          },
          "hovermode": "closest",
          "mapbox": {
           "style": "light"
          },
          "paper_bgcolor": "white",
          "plot_bgcolor": "#E5ECF6",
          "polar": {
           "angularaxis": {
            "gridcolor": "white",
            "linecolor": "white",
            "ticks": ""
           },
           "bgcolor": "#E5ECF6",
           "radialaxis": {
            "gridcolor": "white",
            "linecolor": "white",
            "ticks": ""
           }
          },
          "scene": {
           "xaxis": {
            "backgroundcolor": "#E5ECF6",
            "gridcolor": "white",
            "gridwidth": 2,
            "linecolor": "white",
            "showbackground": true,
            "ticks": "",
            "zerolinecolor": "white"
           },
           "yaxis": {
            "backgroundcolor": "#E5ECF6",
            "gridcolor": "white",
            "gridwidth": 2,
            "linecolor": "white",
            "showbackground": true,
            "ticks": "",
            "zerolinecolor": "white"
           },
           "zaxis": {
            "backgroundcolor": "#E5ECF6",
            "gridcolor": "white",
            "gridwidth": 2,
            "linecolor": "white",
            "showbackground": true,
            "ticks": "",
            "zerolinecolor": "white"
           }
          },
          "shapedefaults": {
           "line": {
            "color": "#2a3f5f"
           }
          },
          "ternary": {
           "aaxis": {
            "gridcolor": "white",
            "linecolor": "white",
            "ticks": ""
           },
           "baxis": {
            "gridcolor": "white",
            "linecolor": "white",
            "ticks": ""
           },
           "bgcolor": "#E5ECF6",
           "caxis": {
            "gridcolor": "white",
            "linecolor": "white",
            "ticks": ""
           }
          },
          "title": {
           "x": 0.05
          },
          "xaxis": {
           "automargin": true,
           "gridcolor": "white",
           "linecolor": "white",
           "ticks": "",
           "title": {
            "standoff": 15
           },
           "zerolinecolor": "white",
           "zerolinewidth": 2
          },
          "yaxis": {
           "automargin": true,
           "gridcolor": "white",
           "linecolor": "white",
           "ticks": "",
           "title": {
            "standoff": 15
           },
           "zerolinecolor": "white",
           "zerolinewidth": 2
          }
         }
        },
        "title": {
         "text": "Analysis of airline passenger count and hotel booking stay night time per month"
        },
        "xaxis": {
         "anchor": "y",
         "domain": [
          0,
          0.94
         ],
         "title": {
          "text": "Month"
         }
        },
        "yaxis": {
         "anchor": "x",
         "domain": [
          0,
          1
         ],
         "title": {
          "text": "<b>primary</b> Passenger Count"
         }
        },
        "yaxis2": {
         "anchor": "x",
         "overlaying": "y",
         "side": "right",
         "title": {
          "text": "<b>secondary</b> Hotel Booking stay nights"
         }
        }
       }
      }
     },
     "metadata": {},
     "output_type": "display_data"
    }
   ],
   "source": [
    "\n",
    "trace_pass = go.Bar(\n",
    "    x = concat_air.index,\n",
    "    y = concat_air['Passenger Count'],\n",
    "    name='Passenger Count'\n",
    ")\n",
    "# go.Figure(trace_pass).show()\n",
    "\n",
    "trace_week = go.Scatter(\n",
    "    x = concat_air.index,\n",
    "    y = concat_air['stays_in_week_nights'],\n",
    "    name='Stays in week nights', line=dict(width=4), marker=dict(size=12)\n",
    ")\n",
    "# go.Figure(trace_week).show()\n",
    "\n",
    "trace_end = go.Scatter(\n",
    "    x = concat_air.index,\n",
    "    y = concat_air['stays_in_weekend_nights'],\n",
    "    name='Stays in weekend nights', line=dict(width=4), marker=dict(size=12)\n",
    ")\n",
    "# go.Figure(trace_end).show()\n",
    "\n",
    "fig = make_subplots(specs=[[{\"secondary_y\": True}]])\n",
    "\n",
    "fig.add_trace(trace_pass, secondary_y=False)\n",
    "fig.add_trace(trace_week, secondary_y=True)\n",
    "fig.add_trace(trace_end, secondary_y=True)\n",
    "\n",
    "fig.update_layout(\n",
    "    title_text=\"Analysis of airline passenger count and hotel booking stay night time per month\"\n",
    ")\n",
    "\n",
    "# Set x-axis title\n",
    "fig.update_xaxes(title_text=\"Month\")\n",
    "\n",
    "# Set y-axes titles\n",
    "fig.update_yaxes(title_text=\"<b>primary</b> Passenger Count\", secondary_y=False)\n",
    "fig.update_yaxes(title_text=\"<b>secondary</b> Hotel Booking stay nights\", secondary_y=True)\n",
    "\n",
    "fig.show()"
   ]
  },
  {
   "cell_type": "code",
   "execution_count": 102,
   "metadata": {},
   "outputs": [
    {
     "data": {
      "application/vnd.plotly.v1+json": {
       "config": {
        "plotlyServerURL": "https://plot.ly"
       },
       "data": [
        {
         "name": "Passenger Count",
         "type": "bar",
         "x": [
          0,
          1,
          2,
          3,
          4,
          5,
          6,
          7,
          8,
          9,
          10,
          11
         ],
         "xaxis": "x",
         "y": [
          28813.577893820715,
          32636.380916030535,
          28723.198570293884,
          24258.40796812749,
          26094.37066246057,
          32657.033768227167,
          31886.650887573964,
          29359.807661612133,
          30340.417235494882,
          27702.751385589865,
          29645.857915057913,
          28725.348496530456
         ],
         "yaxis": "y"
        },
        {
         "line": {
          "width": 4
         },
         "marker": {
          "size": 12
         },
         "name": "Average daily rate (ADR)",
         "type": "scatter",
         "x": [
          0,
          1,
          2,
          3,
          4,
          5,
          6,
          7,
          8,
          9,
          10,
          11
         ],
         "xaxis": "x",
         "y": [
          100.38078997204437,
          140.11152266339988,
          81.07677581120944,
          73.58227565691622,
          70.36124135604655,
          126.78801279519786,
          116.67219215650427,
          80.67964570144986,
          108.69551607158003,
          73.79496173093906,
          87.90887903225806,
          105.04965740388276
         ],
         "yaxis": "y2"
        }
       ],
       "layout": {
        "template": {
         "data": {
          "bar": [
           {
            "error_x": {
             "color": "#2a3f5f"
            },
            "error_y": {
             "color": "#2a3f5f"
            },
            "marker": {
             "line": {
              "color": "#E5ECF6",
              "width": 0.5
             },
             "pattern": {
              "fillmode": "overlay",
              "size": 10,
              "solidity": 0.2
             }
            },
            "type": "bar"
           }
          ],
          "barpolar": [
           {
            "marker": {
             "line": {
              "color": "#E5ECF6",
              "width": 0.5
             },
             "pattern": {
              "fillmode": "overlay",
              "size": 10,
              "solidity": 0.2
             }
            },
            "type": "barpolar"
           }
          ],
          "carpet": [
           {
            "aaxis": {
             "endlinecolor": "#2a3f5f",
             "gridcolor": "white",
             "linecolor": "white",
             "minorgridcolor": "white",
             "startlinecolor": "#2a3f5f"
            },
            "baxis": {
             "endlinecolor": "#2a3f5f",
             "gridcolor": "white",
             "linecolor": "white",
             "minorgridcolor": "white",
             "startlinecolor": "#2a3f5f"
            },
            "type": "carpet"
           }
          ],
          "choropleth": [
           {
            "colorbar": {
             "outlinewidth": 0,
             "ticks": ""
            },
            "type": "choropleth"
           }
          ],
          "contour": [
           {
            "colorbar": {
             "outlinewidth": 0,
             "ticks": ""
            },
            "colorscale": [
             [
              0,
              "#0d0887"
             ],
             [
              0.1111111111111111,
              "#46039f"
             ],
             [
              0.2222222222222222,
              "#7201a8"
             ],
             [
              0.3333333333333333,
              "#9c179e"
             ],
             [
              0.4444444444444444,
              "#bd3786"
             ],
             [
              0.5555555555555556,
              "#d8576b"
             ],
             [
              0.6666666666666666,
              "#ed7953"
             ],
             [
              0.7777777777777778,
              "#fb9f3a"
             ],
             [
              0.8888888888888888,
              "#fdca26"
             ],
             [
              1,
              "#f0f921"
             ]
            ],
            "type": "contour"
           }
          ],
          "contourcarpet": [
           {
            "colorbar": {
             "outlinewidth": 0,
             "ticks": ""
            },
            "type": "contourcarpet"
           }
          ],
          "heatmap": [
           {
            "colorbar": {
             "outlinewidth": 0,
             "ticks": ""
            },
            "colorscale": [
             [
              0,
              "#0d0887"
             ],
             [
              0.1111111111111111,
              "#46039f"
             ],
             [
              0.2222222222222222,
              "#7201a8"
             ],
             [
              0.3333333333333333,
              "#9c179e"
             ],
             [
              0.4444444444444444,
              "#bd3786"
             ],
             [
              0.5555555555555556,
              "#d8576b"
             ],
             [
              0.6666666666666666,
              "#ed7953"
             ],
             [
              0.7777777777777778,
              "#fb9f3a"
             ],
             [
              0.8888888888888888,
              "#fdca26"
             ],
             [
              1,
              "#f0f921"
             ]
            ],
            "type": "heatmap"
           }
          ],
          "heatmapgl": [
           {
            "colorbar": {
             "outlinewidth": 0,
             "ticks": ""
            },
            "colorscale": [
             [
              0,
              "#0d0887"
             ],
             [
              0.1111111111111111,
              "#46039f"
             ],
             [
              0.2222222222222222,
              "#7201a8"
             ],
             [
              0.3333333333333333,
              "#9c179e"
             ],
             [
              0.4444444444444444,
              "#bd3786"
             ],
             [
              0.5555555555555556,
              "#d8576b"
             ],
             [
              0.6666666666666666,
              "#ed7953"
             ],
             [
              0.7777777777777778,
              "#fb9f3a"
             ],
             [
              0.8888888888888888,
              "#fdca26"
             ],
             [
              1,
              "#f0f921"
             ]
            ],
            "type": "heatmapgl"
           }
          ],
          "histogram": [
           {
            "marker": {
             "pattern": {
              "fillmode": "overlay",
              "size": 10,
              "solidity": 0.2
             }
            },
            "type": "histogram"
           }
          ],
          "histogram2d": [
           {
            "colorbar": {
             "outlinewidth": 0,
             "ticks": ""
            },
            "colorscale": [
             [
              0,
              "#0d0887"
             ],
             [
              0.1111111111111111,
              "#46039f"
             ],
             [
              0.2222222222222222,
              "#7201a8"
             ],
             [
              0.3333333333333333,
              "#9c179e"
             ],
             [
              0.4444444444444444,
              "#bd3786"
             ],
             [
              0.5555555555555556,
              "#d8576b"
             ],
             [
              0.6666666666666666,
              "#ed7953"
             ],
             [
              0.7777777777777778,
              "#fb9f3a"
             ],
             [
              0.8888888888888888,
              "#fdca26"
             ],
             [
              1,
              "#f0f921"
             ]
            ],
            "type": "histogram2d"
           }
          ],
          "histogram2dcontour": [
           {
            "colorbar": {
             "outlinewidth": 0,
             "ticks": ""
            },
            "colorscale": [
             [
              0,
              "#0d0887"
             ],
             [
              0.1111111111111111,
              "#46039f"
             ],
             [
              0.2222222222222222,
              "#7201a8"
             ],
             [
              0.3333333333333333,
              "#9c179e"
             ],
             [
              0.4444444444444444,
              "#bd3786"
             ],
             [
              0.5555555555555556,
              "#d8576b"
             ],
             [
              0.6666666666666666,
              "#ed7953"
             ],
             [
              0.7777777777777778,
              "#fb9f3a"
             ],
             [
              0.8888888888888888,
              "#fdca26"
             ],
             [
              1,
              "#f0f921"
             ]
            ],
            "type": "histogram2dcontour"
           }
          ],
          "mesh3d": [
           {
            "colorbar": {
             "outlinewidth": 0,
             "ticks": ""
            },
            "type": "mesh3d"
           }
          ],
          "parcoords": [
           {
            "line": {
             "colorbar": {
              "outlinewidth": 0,
              "ticks": ""
             }
            },
            "type": "parcoords"
           }
          ],
          "pie": [
           {
            "automargin": true,
            "type": "pie"
           }
          ],
          "scatter": [
           {
            "fillpattern": {
             "fillmode": "overlay",
             "size": 10,
             "solidity": 0.2
            },
            "type": "scatter"
           }
          ],
          "scatter3d": [
           {
            "line": {
             "colorbar": {
              "outlinewidth": 0,
              "ticks": ""
             }
            },
            "marker": {
             "colorbar": {
              "outlinewidth": 0,
              "ticks": ""
             }
            },
            "type": "scatter3d"
           }
          ],
          "scattercarpet": [
           {
            "marker": {
             "colorbar": {
              "outlinewidth": 0,
              "ticks": ""
             }
            },
            "type": "scattercarpet"
           }
          ],
          "scattergeo": [
           {
            "marker": {
             "colorbar": {
              "outlinewidth": 0,
              "ticks": ""
             }
            },
            "type": "scattergeo"
           }
          ],
          "scattergl": [
           {
            "marker": {
             "colorbar": {
              "outlinewidth": 0,
              "ticks": ""
             }
            },
            "type": "scattergl"
           }
          ],
          "scattermapbox": [
           {
            "marker": {
             "colorbar": {
              "outlinewidth": 0,
              "ticks": ""
             }
            },
            "type": "scattermapbox"
           }
          ],
          "scatterpolar": [
           {
            "marker": {
             "colorbar": {
              "outlinewidth": 0,
              "ticks": ""
             }
            },
            "type": "scatterpolar"
           }
          ],
          "scatterpolargl": [
           {
            "marker": {
             "colorbar": {
              "outlinewidth": 0,
              "ticks": ""
             }
            },
            "type": "scatterpolargl"
           }
          ],
          "scatterternary": [
           {
            "marker": {
             "colorbar": {
              "outlinewidth": 0,
              "ticks": ""
             }
            },
            "type": "scatterternary"
           }
          ],
          "surface": [
           {
            "colorbar": {
             "outlinewidth": 0,
             "ticks": ""
            },
            "colorscale": [
             [
              0,
              "#0d0887"
             ],
             [
              0.1111111111111111,
              "#46039f"
             ],
             [
              0.2222222222222222,
              "#7201a8"
             ],
             [
              0.3333333333333333,
              "#9c179e"
             ],
             [
              0.4444444444444444,
              "#bd3786"
             ],
             [
              0.5555555555555556,
              "#d8576b"
             ],
             [
              0.6666666666666666,
              "#ed7953"
             ],
             [
              0.7777777777777778,
              "#fb9f3a"
             ],
             [
              0.8888888888888888,
              "#fdca26"
             ],
             [
              1,
              "#f0f921"
             ]
            ],
            "type": "surface"
           }
          ],
          "table": [
           {
            "cells": {
             "fill": {
              "color": "#EBF0F8"
             },
             "line": {
              "color": "white"
             }
            },
            "header": {
             "fill": {
              "color": "#C8D4E3"
             },
             "line": {
              "color": "white"
             }
            },
            "type": "table"
           }
          ]
         },
         "layout": {
          "annotationdefaults": {
           "arrowcolor": "#2a3f5f",
           "arrowhead": 0,
           "arrowwidth": 1
          },
          "autotypenumbers": "strict",
          "coloraxis": {
           "colorbar": {
            "outlinewidth": 0,
            "ticks": ""
           }
          },
          "colorscale": {
           "diverging": [
            [
             0,
             "#8e0152"
            ],
            [
             0.1,
             "#c51b7d"
            ],
            [
             0.2,
             "#de77ae"
            ],
            [
             0.3,
             "#f1b6da"
            ],
            [
             0.4,
             "#fde0ef"
            ],
            [
             0.5,
             "#f7f7f7"
            ],
            [
             0.6,
             "#e6f5d0"
            ],
            [
             0.7,
             "#b8e186"
            ],
            [
             0.8,
             "#7fbc41"
            ],
            [
             0.9,
             "#4d9221"
            ],
            [
             1,
             "#276419"
            ]
           ],
           "sequential": [
            [
             0,
             "#0d0887"
            ],
            [
             0.1111111111111111,
             "#46039f"
            ],
            [
             0.2222222222222222,
             "#7201a8"
            ],
            [
             0.3333333333333333,
             "#9c179e"
            ],
            [
             0.4444444444444444,
             "#bd3786"
            ],
            [
             0.5555555555555556,
             "#d8576b"
            ],
            [
             0.6666666666666666,
             "#ed7953"
            ],
            [
             0.7777777777777778,
             "#fb9f3a"
            ],
            [
             0.8888888888888888,
             "#fdca26"
            ],
            [
             1,
             "#f0f921"
            ]
           ],
           "sequentialminus": [
            [
             0,
             "#0d0887"
            ],
            [
             0.1111111111111111,
             "#46039f"
            ],
            [
             0.2222222222222222,
             "#7201a8"
            ],
            [
             0.3333333333333333,
             "#9c179e"
            ],
            [
             0.4444444444444444,
             "#bd3786"
            ],
            [
             0.5555555555555556,
             "#d8576b"
            ],
            [
             0.6666666666666666,
             "#ed7953"
            ],
            [
             0.7777777777777778,
             "#fb9f3a"
            ],
            [
             0.8888888888888888,
             "#fdca26"
            ],
            [
             1,
             "#f0f921"
            ]
           ]
          },
          "colorway": [
           "#636efa",
           "#EF553B",
           "#00cc96",
           "#ab63fa",
           "#FFA15A",
           "#19d3f3",
           "#FF6692",
           "#B6E880",
           "#FF97FF",
           "#FECB52"
          ],
          "font": {
           "color": "#2a3f5f"
          },
          "geo": {
           "bgcolor": "white",
           "lakecolor": "white",
           "landcolor": "#E5ECF6",
           "showlakes": true,
           "showland": true,
           "subunitcolor": "white"
          },
          "hoverlabel": {
           "align": "left"
          },
          "hovermode": "closest",
          "mapbox": {
           "style": "light"
          },
          "paper_bgcolor": "white",
          "plot_bgcolor": "#E5ECF6",
          "polar": {
           "angularaxis": {
            "gridcolor": "white",
            "linecolor": "white",
            "ticks": ""
           },
           "bgcolor": "#E5ECF6",
           "radialaxis": {
            "gridcolor": "white",
            "linecolor": "white",
            "ticks": ""
           }
          },
          "scene": {
           "xaxis": {
            "backgroundcolor": "#E5ECF6",
            "gridcolor": "white",
            "gridwidth": 2,
            "linecolor": "white",
            "showbackground": true,
            "ticks": "",
            "zerolinecolor": "white"
           },
           "yaxis": {
            "backgroundcolor": "#E5ECF6",
            "gridcolor": "white",
            "gridwidth": 2,
            "linecolor": "white",
            "showbackground": true,
            "ticks": "",
            "zerolinecolor": "white"
           },
           "zaxis": {
            "backgroundcolor": "#E5ECF6",
            "gridcolor": "white",
            "gridwidth": 2,
            "linecolor": "white",
            "showbackground": true,
            "ticks": "",
            "zerolinecolor": "white"
           }
          },
          "shapedefaults": {
           "line": {
            "color": "#2a3f5f"
           }
          },
          "ternary": {
           "aaxis": {
            "gridcolor": "white",
            "linecolor": "white",
            "ticks": ""
           },
           "baxis": {
            "gridcolor": "white",
            "linecolor": "white",
            "ticks": ""
           },
           "bgcolor": "#E5ECF6",
           "caxis": {
            "gridcolor": "white",
            "linecolor": "white",
            "ticks": ""
           }
          },
          "title": {
           "x": 0.05
          },
          "xaxis": {
           "automargin": true,
           "gridcolor": "white",
           "linecolor": "white",
           "ticks": "",
           "title": {
            "standoff": 15
           },
           "zerolinecolor": "white",
           "zerolinewidth": 2
          },
          "yaxis": {
           "automargin": true,
           "gridcolor": "white",
           "linecolor": "white",
           "ticks": "",
           "title": {
            "standoff": 15
           },
           "zerolinecolor": "white",
           "zerolinewidth": 2
          }
         }
        },
        "title": {
         "text": "Analysis of airline passenger count and the average daily rate of a hotel booking per month"
        },
        "xaxis": {
         "anchor": "y",
         "domain": [
          0,
          0.94
         ],
         "title": {
          "text": "Month"
         }
        },
        "yaxis": {
         "anchor": "x",
         "domain": [
          0,
          1
         ],
         "title": {
          "text": "<b>primary</b> Passenger count"
         }
        },
        "yaxis2": {
         "anchor": "x",
         "overlaying": "y",
         "side": "right",
         "title": {
          "text": "<b>secondary</b> ADR"
         }
        }
       }
      }
     },
     "metadata": {},
     "output_type": "display_data"
    }
   ],
   "source": [
    "\n",
    "trace_pass = go.Bar(\n",
    "    x = concat_air.index,\n",
    "    y = concat_air['Passenger Count'],\n",
    "    name='Passenger Count'\n",
    ")\n",
    "# go.Figure(trace_pass).show()\n",
    "\n",
    "trace_adr = go.Scatter(\n",
    "    x = concat_air.index,\n",
    "    y = concat_air['adr'],\n",
    "    name='Average daily rate (ADR)', line=dict(width=4), marker=dict(size=12)\n",
    ")\n",
    "# go.Figure(trace_week).show()\n",
    "\n",
    "fig = make_subplots(specs=[[{\"secondary_y\": True}]])\n",
    "\n",
    "fig.add_trace(trace_pass, secondary_y=False)\n",
    "fig.add_trace(trace_adr, secondary_y=True)\n",
    "\n",
    "fig.update_layout(\n",
    "    title_text=\"Analysis of airline passenger count and the average daily rate of a hotel booking per month\"\n",
    ")\n",
    "\n",
    "# Set x-axis title\n",
    "fig.update_xaxes(title_text=\"Month\")\n",
    "\n",
    "# Set y-axes titles\n",
    "fig.update_yaxes(title_text=\"<b>primary</b> Passenger count\", secondary_y=False)\n",
    "fig.update_yaxes(title_text=\"<b>secondary</b> ADR\", secondary_y=True)\n",
    "\n",
    "fig.show()"
   ]
  },
  {
   "cell_type": "code",
   "execution_count": 82,
   "metadata": {},
   "outputs": [],
   "source": [
    "qcut_series_air, qcut_intervals_air = pd.qcut(hotel_data['Passenger Count'], q=3, retbins=True, labels=['Low', 'Medium', 'High'])"
   ]
  },
  {
   "cell_type": "code",
   "execution_count": 159,
   "metadata": {},
   "outputs": [
    {
     "data": {
      "application/vnd.plotly.v1+json": {
       "config": {
        "plotlyServerURL": "https://plot.ly"
       },
       "data": [
        {
         "dimensions": [
          {
           "categoryarray": [
            "Low",
            "Medium",
            "High"
           ],
           "categoryorder": "array",
           "label": "Is repeated quest",
           "values": [
            "Low",
            "High",
            "Low",
            "Low",
            "Low",
            "High",
            "Low",
            "High",
            "High",
            "Low",
            "Low",
            "High",
            "Low",
            "Low",
            "Low",
            "Low",
            "Low",
            "Low",
            "High",
            "Low",
            "Low",
            "High",
            "Low",
            "High",
            "High",
            "Low",
            "Low",
            "Low",
            "Low",
            "Low",
            "High",
            "Low",
            "Low",
            "High",
            "High",
            "Low",
            "Low",
            "High",
            "Low",
            "Low",
            "High",
            "Low",
            "High",
            "Low",
            "Low",
            "Low",
            "Low",
            "Low",
            "Low",
            "Low",
            "High",
            "Low",
            "Low",
            "Low",
            "Low",
            "Low",
            "Low",
            "Low",
            "High",
            "Low",
            "Low",
            "High",
            "High",
            "High",
            "Low",
            "Low",
            "Medium",
            "High",
            "Medium",
            "Medium",
            "Medium",
            "Medium",
            "Medium",
            "Medium",
            "High",
            "Medium",
            "Medium",
            "Medium",
            "High",
            "Medium",
            "Medium",
            "High",
            "Medium",
            "Medium",
            "Medium",
            "Medium",
            "Medium",
            "Medium",
            "High",
            "Medium",
            "Medium",
            "Medium",
            "Medium",
            "Medium",
            "Medium",
            "High",
            "Medium",
            "High",
            "High",
            "Medium",
            "Medium",
            "Medium",
            "Medium",
            "High",
            "Medium",
            "Medium",
            "High",
            "High",
            "Medium",
            "Medium",
            "Medium",
            "High",
            "Medium",
            "Medium",
            "Medium",
            "Medium",
            "Medium",
            "Medium",
            "Medium",
            "High",
            "High",
            "Medium",
            "Medium",
            "Medium",
            "Medium",
            "High",
            "High",
            "High",
            "High",
            "High",
            "High",
            "High",
            "High",
            "High",
            "High",
            "High",
            "High"
           ]
          },
          {
           "categoryarray": [
            "Low",
            "Medium",
            "High"
           ],
           "categoryorder": "array",
           "label": "Previous cancellations",
           "values": [
            "Low",
            "High",
            "Low",
            "Low",
            "Low",
            "Low",
            "Low",
            "Low",
            "High",
            "Low",
            "Low",
            "High",
            "Low",
            "Low",
            "Low",
            "Low",
            "Low",
            "Low",
            "High",
            "Low",
            "Low",
            "Low",
            "Low",
            "Low",
            "Low",
            "Low",
            "Low",
            "Low",
            "Low",
            "Low",
            "High",
            "Low",
            "Low",
            "Low",
            "High",
            "Low",
            "Low",
            "High",
            "Low",
            "Low",
            "High",
            "Low",
            "High",
            "Low",
            "Low",
            "Low",
            "Low",
            "Low",
            "Low",
            "Low",
            "Low",
            "Low",
            "Low",
            "Low",
            "Low",
            "Medium",
            "Medium",
            "Medium",
            "High",
            "Medium",
            "Medium",
            "Medium",
            "Medium",
            "High",
            "Medium",
            "Medium",
            "Medium",
            "Medium",
            "Medium",
            "Medium",
            "Medium",
            "Medium",
            "Medium",
            "Medium",
            "Medium",
            "Medium",
            "Medium",
            "Medium",
            "Medium",
            "Medium",
            "Medium",
            "Medium",
            "Medium",
            "Medium",
            "Medium",
            "Medium",
            "Medium",
            "Medium",
            "Medium",
            "Medium",
            "Medium",
            "Medium",
            "Medium",
            "Medium",
            "Medium",
            "Medium",
            "Medium",
            "Medium",
            "Medium",
            "Medium",
            "Medium",
            "Medium",
            "High",
            "High",
            "High",
            "High",
            "High",
            "High",
            "High",
            "High",
            "High",
            "High",
            "High",
            "High",
            "High",
            "High",
            "High",
            "High",
            "High",
            "High",
            "High",
            "High",
            "High",
            "High",
            "High",
            "High",
            "High",
            "High",
            "High",
            "High",
            "High",
            "High",
            "High",
            "High",
            "High",
            "High",
            "High"
           ]
          },
          {
           "categoryarray": [
            "Low",
            "Medium",
            "High"
           ],
           "categoryorder": "array",
           "label": "Previous bookings not canceled",
           "values": [
            "Low",
            "High",
            "Low",
            "Low",
            "Low",
            "High",
            "Low",
            "High",
            "High",
            "Low",
            "Low",
            "High",
            "Low",
            "Low",
            "Low",
            "Low",
            "Low",
            "Low",
            "High",
            "Low",
            "Low",
            "High",
            "Low",
            "High",
            "High",
            "Low",
            "High",
            "Low",
            "Low",
            "High",
            "High",
            "Low",
            "Low",
            "High",
            "High",
            "Low",
            "Low",
            "High",
            "Low",
            "Low",
            "High",
            "Low",
            "High",
            "Low",
            "Low",
            "Low",
            "Low",
            "Low",
            "Low",
            "Low",
            "High",
            "Low",
            "Low",
            "Low",
            "Low",
            "Low",
            "Low",
            "Low",
            "High",
            "Low",
            "Low",
            "High",
            "High",
            "High",
            "Low",
            "Low",
            "Low",
            "High",
            "Low",
            "Medium",
            "Medium",
            "Medium",
            "Medium",
            "Medium",
            "Medium",
            "Medium",
            "Medium",
            "Medium",
            "High",
            "Medium",
            "Medium",
            "Medium",
            "Medium",
            "Medium",
            "Medium",
            "Medium",
            "Medium",
            "Medium",
            "Medium",
            "Medium",
            "Medium",
            "Medium",
            "Medium",
            "Medium",
            "Medium",
            "Medium",
            "Medium",
            "High",
            "High",
            "Medium",
            "Medium",
            "Medium",
            "Medium",
            "High",
            "Medium",
            "Medium",
            "High",
            "High",
            "Medium",
            "Medium",
            "Medium",
            "Medium",
            "Medium",
            "Medium",
            "Medium",
            "High",
            "Medium",
            "Medium",
            "Medium",
            "High",
            "High",
            "Medium",
            "Medium",
            "High",
            "High",
            "High",
            "High",
            "High",
            "High",
            "High",
            "High",
            "High",
            "High",
            "High",
            "High",
            "High",
            "High"
           ]
          }
         ],
         "line": {
          "color": [
           0,
           2,
           0,
           0,
           0,
           2,
           0,
           2,
           2,
           0,
           0,
           2,
           0,
           0,
           0,
           0,
           0,
           0,
           2,
           0,
           0,
           2,
           0,
           2,
           2,
           0,
           0,
           0,
           0,
           0,
           2,
           0,
           0,
           2,
           2,
           0,
           0,
           2,
           0,
           0,
           2,
           0,
           2,
           0,
           0,
           0,
           0,
           0,
           0,
           0,
           2,
           0,
           0,
           0,
           0,
           0,
           0,
           0,
           2,
           0,
           0,
           2,
           2,
           2,
           0,
           0,
           1,
           2,
           1,
           1,
           1,
           1,
           1,
           1,
           2,
           1,
           1,
           1,
           2,
           1,
           1,
           2,
           1,
           1,
           1,
           1,
           1,
           1,
           2,
           1,
           1,
           1,
           1,
           1,
           1,
           2,
           1,
           2,
           2,
           1,
           1,
           1,
           1,
           2,
           1,
           1,
           2,
           2,
           1,
           1,
           1,
           2,
           1,
           1,
           1,
           1,
           1,
           1,
           1,
           2,
           2,
           1,
           1,
           1,
           1,
           2,
           2,
           2,
           2,
           2,
           2,
           2,
           2,
           2,
           2,
           2,
           2
          ],
          "colorscale": [
           [
            0,
            "#b0c4de"
           ],
           [
            0.5,
            "#3cb371"
           ],
           [
            1,
            "#e9967a"
           ]
          ]
         },
         "type": "parcats"
        }
       ],
       "layout": {
        "height": 600,
        "template": {
         "data": {
          "bar": [
           {
            "error_x": {
             "color": "#2a3f5f"
            },
            "error_y": {
             "color": "#2a3f5f"
            },
            "marker": {
             "line": {
              "color": "#E5ECF6",
              "width": 0.5
             },
             "pattern": {
              "fillmode": "overlay",
              "size": 10,
              "solidity": 0.2
             }
            },
            "type": "bar"
           }
          ],
          "barpolar": [
           {
            "marker": {
             "line": {
              "color": "#E5ECF6",
              "width": 0.5
             },
             "pattern": {
              "fillmode": "overlay",
              "size": 10,
              "solidity": 0.2
             }
            },
            "type": "barpolar"
           }
          ],
          "carpet": [
           {
            "aaxis": {
             "endlinecolor": "#2a3f5f",
             "gridcolor": "white",
             "linecolor": "white",
             "minorgridcolor": "white",
             "startlinecolor": "#2a3f5f"
            },
            "baxis": {
             "endlinecolor": "#2a3f5f",
             "gridcolor": "white",
             "linecolor": "white",
             "minorgridcolor": "white",
             "startlinecolor": "#2a3f5f"
            },
            "type": "carpet"
           }
          ],
          "choropleth": [
           {
            "colorbar": {
             "outlinewidth": 0,
             "ticks": ""
            },
            "type": "choropleth"
           }
          ],
          "contour": [
           {
            "colorbar": {
             "outlinewidth": 0,
             "ticks": ""
            },
            "colorscale": [
             [
              0,
              "#0d0887"
             ],
             [
              0.1111111111111111,
              "#46039f"
             ],
             [
              0.2222222222222222,
              "#7201a8"
             ],
             [
              0.3333333333333333,
              "#9c179e"
             ],
             [
              0.4444444444444444,
              "#bd3786"
             ],
             [
              0.5555555555555556,
              "#d8576b"
             ],
             [
              0.6666666666666666,
              "#ed7953"
             ],
             [
              0.7777777777777778,
              "#fb9f3a"
             ],
             [
              0.8888888888888888,
              "#fdca26"
             ],
             [
              1,
              "#f0f921"
             ]
            ],
            "type": "contour"
           }
          ],
          "contourcarpet": [
           {
            "colorbar": {
             "outlinewidth": 0,
             "ticks": ""
            },
            "type": "contourcarpet"
           }
          ],
          "heatmap": [
           {
            "colorbar": {
             "outlinewidth": 0,
             "ticks": ""
            },
            "colorscale": [
             [
              0,
              "#0d0887"
             ],
             [
              0.1111111111111111,
              "#46039f"
             ],
             [
              0.2222222222222222,
              "#7201a8"
             ],
             [
              0.3333333333333333,
              "#9c179e"
             ],
             [
              0.4444444444444444,
              "#bd3786"
             ],
             [
              0.5555555555555556,
              "#d8576b"
             ],
             [
              0.6666666666666666,
              "#ed7953"
             ],
             [
              0.7777777777777778,
              "#fb9f3a"
             ],
             [
              0.8888888888888888,
              "#fdca26"
             ],
             [
              1,
              "#f0f921"
             ]
            ],
            "type": "heatmap"
           }
          ],
          "heatmapgl": [
           {
            "colorbar": {
             "outlinewidth": 0,
             "ticks": ""
            },
            "colorscale": [
             [
              0,
              "#0d0887"
             ],
             [
              0.1111111111111111,
              "#46039f"
             ],
             [
              0.2222222222222222,
              "#7201a8"
             ],
             [
              0.3333333333333333,
              "#9c179e"
             ],
             [
              0.4444444444444444,
              "#bd3786"
             ],
             [
              0.5555555555555556,
              "#d8576b"
             ],
             [
              0.6666666666666666,
              "#ed7953"
             ],
             [
              0.7777777777777778,
              "#fb9f3a"
             ],
             [
              0.8888888888888888,
              "#fdca26"
             ],
             [
              1,
              "#f0f921"
             ]
            ],
            "type": "heatmapgl"
           }
          ],
          "histogram": [
           {
            "marker": {
             "pattern": {
              "fillmode": "overlay",
              "size": 10,
              "solidity": 0.2
             }
            },
            "type": "histogram"
           }
          ],
          "histogram2d": [
           {
            "colorbar": {
             "outlinewidth": 0,
             "ticks": ""
            },
            "colorscale": [
             [
              0,
              "#0d0887"
             ],
             [
              0.1111111111111111,
              "#46039f"
             ],
             [
              0.2222222222222222,
              "#7201a8"
             ],
             [
              0.3333333333333333,
              "#9c179e"
             ],
             [
              0.4444444444444444,
              "#bd3786"
             ],
             [
              0.5555555555555556,
              "#d8576b"
             ],
             [
              0.6666666666666666,
              "#ed7953"
             ],
             [
              0.7777777777777778,
              "#fb9f3a"
             ],
             [
              0.8888888888888888,
              "#fdca26"
             ],
             [
              1,
              "#f0f921"
             ]
            ],
            "type": "histogram2d"
           }
          ],
          "histogram2dcontour": [
           {
            "colorbar": {
             "outlinewidth": 0,
             "ticks": ""
            },
            "colorscale": [
             [
              0,
              "#0d0887"
             ],
             [
              0.1111111111111111,
              "#46039f"
             ],
             [
              0.2222222222222222,
              "#7201a8"
             ],
             [
              0.3333333333333333,
              "#9c179e"
             ],
             [
              0.4444444444444444,
              "#bd3786"
             ],
             [
              0.5555555555555556,
              "#d8576b"
             ],
             [
              0.6666666666666666,
              "#ed7953"
             ],
             [
              0.7777777777777778,
              "#fb9f3a"
             ],
             [
              0.8888888888888888,
              "#fdca26"
             ],
             [
              1,
              "#f0f921"
             ]
            ],
            "type": "histogram2dcontour"
           }
          ],
          "mesh3d": [
           {
            "colorbar": {
             "outlinewidth": 0,
             "ticks": ""
            },
            "type": "mesh3d"
           }
          ],
          "parcoords": [
           {
            "line": {
             "colorbar": {
              "outlinewidth": 0,
              "ticks": ""
             }
            },
            "type": "parcoords"
           }
          ],
          "pie": [
           {
            "automargin": true,
            "type": "pie"
           }
          ],
          "scatter": [
           {
            "fillpattern": {
             "fillmode": "overlay",
             "size": 10,
             "solidity": 0.2
            },
            "type": "scatter"
           }
          ],
          "scatter3d": [
           {
            "line": {
             "colorbar": {
              "outlinewidth": 0,
              "ticks": ""
             }
            },
            "marker": {
             "colorbar": {
              "outlinewidth": 0,
              "ticks": ""
             }
            },
            "type": "scatter3d"
           }
          ],
          "scattercarpet": [
           {
            "marker": {
             "colorbar": {
              "outlinewidth": 0,
              "ticks": ""
             }
            },
            "type": "scattercarpet"
           }
          ],
          "scattergeo": [
           {
            "marker": {
             "colorbar": {
              "outlinewidth": 0,
              "ticks": ""
             }
            },
            "type": "scattergeo"
           }
          ],
          "scattergl": [
           {
            "marker": {
             "colorbar": {
              "outlinewidth": 0,
              "ticks": ""
             }
            },
            "type": "scattergl"
           }
          ],
          "scattermapbox": [
           {
            "marker": {
             "colorbar": {
              "outlinewidth": 0,
              "ticks": ""
             }
            },
            "type": "scattermapbox"
           }
          ],
          "scatterpolar": [
           {
            "marker": {
             "colorbar": {
              "outlinewidth": 0,
              "ticks": ""
             }
            },
            "type": "scatterpolar"
           }
          ],
          "scatterpolargl": [
           {
            "marker": {
             "colorbar": {
              "outlinewidth": 0,
              "ticks": ""
             }
            },
            "type": "scatterpolargl"
           }
          ],
          "scatterternary": [
           {
            "marker": {
             "colorbar": {
              "outlinewidth": 0,
              "ticks": ""
             }
            },
            "type": "scatterternary"
           }
          ],
          "surface": [
           {
            "colorbar": {
             "outlinewidth": 0,
             "ticks": ""
            },
            "colorscale": [
             [
              0,
              "#0d0887"
             ],
             [
              0.1111111111111111,
              "#46039f"
             ],
             [
              0.2222222222222222,
              "#7201a8"
             ],
             [
              0.3333333333333333,
              "#9c179e"
             ],
             [
              0.4444444444444444,
              "#bd3786"
             ],
             [
              0.5555555555555556,
              "#d8576b"
             ],
             [
              0.6666666666666666,
              "#ed7953"
             ],
             [
              0.7777777777777778,
              "#fb9f3a"
             ],
             [
              0.8888888888888888,
              "#fdca26"
             ],
             [
              1,
              "#f0f921"
             ]
            ],
            "type": "surface"
           }
          ],
          "table": [
           {
            "cells": {
             "fill": {
              "color": "#EBF0F8"
             },
             "line": {
              "color": "white"
             }
            },
            "header": {
             "fill": {
              "color": "#C8D4E3"
             },
             "line": {
              "color": "white"
             }
            },
            "type": "table"
           }
          ]
         },
         "layout": {
          "annotationdefaults": {
           "arrowcolor": "#2a3f5f",
           "arrowhead": 0,
           "arrowwidth": 1
          },
          "autotypenumbers": "strict",
          "coloraxis": {
           "colorbar": {
            "outlinewidth": 0,
            "ticks": ""
           }
          },
          "colorscale": {
           "diverging": [
            [
             0,
             "#8e0152"
            ],
            [
             0.1,
             "#c51b7d"
            ],
            [
             0.2,
             "#de77ae"
            ],
            [
             0.3,
             "#f1b6da"
            ],
            [
             0.4,
             "#fde0ef"
            ],
            [
             0.5,
             "#f7f7f7"
            ],
            [
             0.6,
             "#e6f5d0"
            ],
            [
             0.7,
             "#b8e186"
            ],
            [
             0.8,
             "#7fbc41"
            ],
            [
             0.9,
             "#4d9221"
            ],
            [
             1,
             "#276419"
            ]
           ],
           "sequential": [
            [
             0,
             "#0d0887"
            ],
            [
             0.1111111111111111,
             "#46039f"
            ],
            [
             0.2222222222222222,
             "#7201a8"
            ],
            [
             0.3333333333333333,
             "#9c179e"
            ],
            [
             0.4444444444444444,
             "#bd3786"
            ],
            [
             0.5555555555555556,
             "#d8576b"
            ],
            [
             0.6666666666666666,
             "#ed7953"
            ],
            [
             0.7777777777777778,
             "#fb9f3a"
            ],
            [
             0.8888888888888888,
             "#fdca26"
            ],
            [
             1,
             "#f0f921"
            ]
           ],
           "sequentialminus": [
            [
             0,
             "#0d0887"
            ],
            [
             0.1111111111111111,
             "#46039f"
            ],
            [
             0.2222222222222222,
             "#7201a8"
            ],
            [
             0.3333333333333333,
             "#9c179e"
            ],
            [
             0.4444444444444444,
             "#bd3786"
            ],
            [
             0.5555555555555556,
             "#d8576b"
            ],
            [
             0.6666666666666666,
             "#ed7953"
            ],
            [
             0.7777777777777778,
             "#fb9f3a"
            ],
            [
             0.8888888888888888,
             "#fdca26"
            ],
            [
             1,
             "#f0f921"
            ]
           ]
          },
          "colorway": [
           "#636efa",
           "#EF553B",
           "#00cc96",
           "#ab63fa",
           "#FFA15A",
           "#19d3f3",
           "#FF6692",
           "#B6E880",
           "#FF97FF",
           "#FECB52"
          ],
          "font": {
           "color": "#2a3f5f"
          },
          "geo": {
           "bgcolor": "white",
           "lakecolor": "white",
           "landcolor": "#E5ECF6",
           "showlakes": true,
           "showland": true,
           "subunitcolor": "white"
          },
          "hoverlabel": {
           "align": "left"
          },
          "hovermode": "closest",
          "mapbox": {
           "style": "light"
          },
          "paper_bgcolor": "white",
          "plot_bgcolor": "#E5ECF6",
          "polar": {
           "angularaxis": {
            "gridcolor": "white",
            "linecolor": "white",
            "ticks": ""
           },
           "bgcolor": "#E5ECF6",
           "radialaxis": {
            "gridcolor": "white",
            "linecolor": "white",
            "ticks": ""
           }
          },
          "scene": {
           "xaxis": {
            "backgroundcolor": "#E5ECF6",
            "gridcolor": "white",
            "gridwidth": 2,
            "linecolor": "white",
            "showbackground": true,
            "ticks": "",
            "zerolinecolor": "white"
           },
           "yaxis": {
            "backgroundcolor": "#E5ECF6",
            "gridcolor": "white",
            "gridwidth": 2,
            "linecolor": "white",
            "showbackground": true,
            "ticks": "",
            "zerolinecolor": "white"
           },
           "zaxis": {
            "backgroundcolor": "#E5ECF6",
            "gridcolor": "white",
            "gridwidth": 2,
            "linecolor": "white",
            "showbackground": true,
            "ticks": "",
            "zerolinecolor": "white"
           }
          },
          "shapedefaults": {
           "line": {
            "color": "#2a3f5f"
           }
          },
          "ternary": {
           "aaxis": {
            "gridcolor": "white",
            "linecolor": "white",
            "ticks": ""
           },
           "baxis": {
            "gridcolor": "white",
            "linecolor": "white",
            "ticks": ""
           },
           "bgcolor": "#E5ECF6",
           "caxis": {
            "gridcolor": "white",
            "linecolor": "white",
            "ticks": ""
           }
          },
          "title": {
           "x": 0.05
          },
          "xaxis": {
           "automargin": true,
           "gridcolor": "white",
           "linecolor": "white",
           "ticks": "",
           "title": {
            "standoff": 15
           },
           "zerolinecolor": "white",
           "zerolinewidth": 2
          },
          "yaxis": {
           "automargin": true,
           "gridcolor": "white",
           "linecolor": "white",
           "ticks": "",
           "title": {
            "standoff": 15
           },
           "zerolinecolor": "white",
           "zerolinewidth": 2
          }
         }
        },
        "title": {
         "text": "Analysis of restaurant tips for all variables"
        }
       }
      }
     },
     "metadata": {},
     "output_type": "display_data"
    },
    {
     "name": "stdout",
     "output_type": "stream",
     "text": [
      "[ 40.2         82.9         97.06666667 100.        ]\n"
     ]
    }
   ],
   "source": [
    "qcut_series_rep, qcut_intervals_rep = pd.qcut(concat['is_repeated_guest'].rank(method='first'), q=3, retbins=True, labels=['Low', 'Medium', 'High'])\n",
    "qcut_series_can, qcut_intervals_can = pd.qcut(concat['previous_cancellations'].rank(method='first'), q=3, retbins=True, labels=['Low', 'Medium', 'High'])\n",
    "qcut_series_not, qcut_intervals_not = pd.qcut(concat['previous_bookings_not_canceled'].rank(method='first'), q=3, retbins=True, labels=['Low', 'Medium', 'High'])\n",
    "\n",
    "rep_dim = go.parcats.Dimension(\n",
    "    values=qcut_series_rep,\n",
    "    label=\"Is repeated quest\",\n",
    "    categoryorder='array',\n",
    "    categoryarray=['Low', 'Medium', 'High']\n",
    ")\n",
    "can_dim = go.parcats.Dimension(\n",
    "    values=qcut_series_can,\n",
    "    categoryorder='array',\n",
    "    categoryarray=['Low', 'Medium', 'High'],\n",
    "    label=\"Previous cancellations\"\n",
    ")\n",
    "not_dim = go.parcats.Dimension(\n",
    "    values=qcut_series_not,\n",
    "    categoryorder='array',\n",
    "    categoryarray=['Low', 'Medium', 'High'],\n",
    "    label=\"Previous bookings not canceled\"\n",
    ")\n",
    "\n",
    "# fig_air = go.Figure(data=[go.Parcats(\n",
    "#     dimensions=[month_dim, repeated_dim, weekend_dim, week_dim, adr_dim]\n",
    "# )], layout=go.Layout(title='Analysis of restaurant tips for all variables'))\n",
    "\n",
    "# fig_air.show()\n",
    "\n",
    "color = qcut_series_rep.astype('category').cat.codes\n",
    "colorscale = ['#b0c4de', '#3cb371', '#e9967a']\n",
    "\n",
    "fig = go.Figure(go.Parcats(\n",
    "    dimensions=[rep_dim, can_dim, not_dim], line={'color': color, 'colorscale': colorscale}\n",
    "), layout=go.Layout(title='Analysis of restaurant tips for all variables', height=600))\n",
    "\n",
    "fig.show()"
   ]
  },
  {
   "cell_type": "code",
   "execution_count": 168,
   "metadata": {},
   "outputs": [
    {
     "data": {
      "application/vnd.plotly.v1+json": {
       "config": {
        "plotlyServerURL": "https://plot.ly"
       },
       "data": [
        {
         "dimensions": [
          {
           "categoryarray": [
            "Low",
            "Medium",
            "High"
           ],
           "categoryorder": "array",
           "label": "Literacy",
           "values": [
            "Medium",
            "Low",
            "Medium",
            "Medium",
            "High",
            "High",
            "High",
            "High",
            "High",
            "Medium",
            "Low",
            "High",
            "Low",
            "Low",
            "High",
            "Medium",
            "High",
            "Medium",
            "Medium",
            "High",
            "Low",
            "High",
            "Medium",
            "Medium",
            "Medium",
            "Low",
            "Medium",
            "Low",
            "Medium",
            "High",
            "High",
            "Low",
            "Medium",
            "High",
            "Low",
            "Medium",
            "Low",
            "High",
            "High",
            "Low",
            "High",
            "Medium",
            "High",
            "Low",
            "High",
            null,
            "Low",
            null,
            "Medium",
            "Low",
            "High",
            "Low",
            "High",
            "Low",
            "High",
            "High",
            "Medium",
            "Low",
            "High",
            "Low",
            "Low",
            "High",
            "Medium",
            "High",
            "Medium",
            null,
            "Medium",
            "High",
            "High",
            "Medium",
            "Low",
            null,
            "Medium",
            "Low",
            "Medium",
            "Low",
            "High",
            "High",
            "High",
            "High",
            "Medium",
            "Low",
            "High",
            "Low",
            "High",
            "Medium",
            "Low",
            "Medium",
            "Low",
            "Low",
            "Medium",
            "Low",
            "Medium",
            null,
            "Medium",
            "Low",
            "Low",
            "High",
            "High",
            "Low",
            "Low",
            "Low",
            "Medium",
            "Medium",
            "Medium",
            "Medium",
            "High",
            "Medium",
            "Medium",
            "Low",
            "High",
            "High",
            "Low",
            "Low",
            "Low",
            "Medium",
            "Medium",
            "Medium",
            null,
            "High",
            "High",
            "Low",
            "Low",
            "Low",
            "Medium",
            "High",
            "Low",
            "Medium",
            "Low",
            "Low",
            "High",
            "High",
            "High",
            "Medium",
            "Medium",
            "Low",
            "Medium"
           ]
          },
          {
           "categoryarray": [
            "Low",
            "Medium",
            "High"
           ],
           "categoryorder": "array",
           "label": "GDP",
           "values": [
            "High",
            "Low",
            "Medium",
            "Medium",
            "High",
            "High",
            "Medium",
            "High",
            "High",
            "Low",
            "Low",
            "High",
            "Low",
            "Low",
            "Medium",
            "High",
            "Medium",
            "Low",
            "Medium",
            "High",
            "Medium",
            "High",
            "Medium",
            "Medium",
            "Medium",
            "Low",
            "Medium",
            "Low",
            "Low",
            "High",
            "High",
            "Low",
            "Medium",
            "High",
            "Medium",
            "Low",
            "Medium",
            "High",
            "High",
            "Low",
            "High",
            "Medium",
            "High",
            "Medium",
            "Low",
            "High",
            "Low",
            "High",
            "Medium",
            "Low",
            "High",
            "Medium",
            "Medium",
            "Low",
            "Medium",
            "High",
            "Low",
            "Low",
            "High",
            "Medium",
            "Low",
            "High",
            "High",
            "High",
            "Medium",
            "High",
            "Medium",
            "High",
            "Medium",
            "Low",
            "Low",
            "Low",
            "High",
            "Low",
            "Medium",
            "Medium",
            "High",
            "High",
            "High",
            "Medium",
            "High",
            "Medium",
            "High",
            "Low",
            "Medium",
            "Medium",
            "Low",
            "High",
            "Low",
            "Low",
            "High",
            "Low",
            "Medium",
            "Low",
            "Medium",
            "Low",
            "Low",
            "High",
            "High",
            "Low",
            "High",
            "Low",
            "Medium",
            "Medium",
            "Medium",
            "Medium",
            "High",
            "High",
            "Medium",
            "High",
            "Medium",
            "Medium",
            "Low",
            "Low",
            "Low",
            "High",
            "Low",
            "Medium",
            "High",
            "High",
            "High",
            "Medium",
            "Low",
            "Low",
            "Medium",
            "Low",
            "Medium",
            "High",
            "Low",
            "Low",
            "Medium",
            "High",
            "Low",
            "Medium",
            "Low",
            "Low",
            "Low"
           ]
          },
          {
           "categoryarray": [
            "Low",
            "Medium",
            "High"
           ],
           "categoryorder": "array",
           "label": "Lead Time",
           "values": [
            "High",
            "Low",
            "Low",
            "High",
            "Low",
            "Medium",
            "Medium",
            "High",
            "High",
            "Medium",
            "Low",
            "High",
            "High",
            "Low",
            "Medium",
            "High",
            "Medium",
            "Low",
            "Medium",
            "High",
            "High",
            "High",
            "Medium",
            "Low",
            "High",
            "High",
            "Medium",
            "Low",
            "Low",
            "Medium",
            "High",
            "Low",
            "High",
            "High",
            "Low",
            "Low",
            "Medium",
            "Medium",
            "High",
            "Low",
            "Medium",
            "High",
            "Medium",
            "Low",
            "High",
            "Low",
            "Low",
            "High",
            "High",
            "Low",
            "Medium",
            "Low",
            "High",
            "Low",
            "Medium",
            "High",
            "Low",
            "Medium",
            "High",
            "Low",
            "Low",
            "High",
            "High",
            "High",
            "Medium",
            "High",
            "Medium",
            "Medium",
            "Medium",
            "Medium",
            "Low",
            "Low",
            "Medium",
            "Low",
            "Low",
            "Medium",
            "Low",
            "High",
            "High",
            "High",
            "Medium",
            "Medium",
            "Low",
            "Low",
            "Medium",
            "Medium",
            "Low",
            "High",
            "High",
            "High",
            "Low",
            "Low",
            "Medium",
            "High",
            "Low",
            "Low",
            "Low",
            "Medium",
            "High",
            "Low",
            "Medium",
            "Low",
            "Medium",
            "Low",
            "Medium",
            "High",
            "High",
            "High",
            "Low",
            "Medium",
            "High",
            "Medium",
            "High",
            "Low",
            "Medium",
            "High",
            "High",
            "Medium",
            "High",
            "Medium",
            "High",
            "Medium",
            "Low",
            "Medium",
            "Medium",
            "Low",
            "Low",
            "Medium",
            "Low",
            "Low",
            "Medium",
            "High",
            "Low",
            "Medium",
            "High",
            "Medium",
            "Medium"
           ]
          },
          {
           "categoryarray": [
            "Low",
            "Medium",
            "High"
           ],
           "categoryorder": "array",
           "label": "Phones",
           "values": [
            "High",
            "Low",
            "High",
            "Low",
            "High",
            "Medium",
            "Medium",
            "High",
            "High",
            "Medium",
            "Low",
            "High",
            "Low",
            "Low",
            "High",
            "Medium",
            "High",
            "Low",
            "Medium",
            "High",
            "Medium",
            "High",
            "Medium",
            "Medium",
            "Medium",
            "Low",
            "Medium",
            "Low",
            "Low",
            null,
            "High",
            "Low",
            "High",
            "High",
            "Medium",
            "Medium",
            "Medium",
            "High",
            "High",
            "Low",
            "High",
            "Medium",
            "High",
            "Low",
            "Medium",
            "High",
            "Low",
            "High",
            "High",
            "Low",
            "High",
            "Medium",
            "Medium",
            "Low",
            "High",
            "High",
            "Low",
            "Low",
            "High",
            "Medium",
            "Low",
            "High",
            "High",
            "High",
            "Medium",
            "High",
            "Medium",
            "High",
            "Medium",
            "Low",
            "Low",
            "Low",
            "Medium",
            "Low",
            "Medium",
            "Medium",
            "High",
            "Medium",
            "High",
            "High",
            "High",
            "Low",
            "High",
            "Low",
            "Medium",
            "Medium",
            "Low",
            "High",
            "Low",
            "Low",
            "Medium",
            "Low",
            "Medium",
            "Low",
            "Low",
            "Low",
            "Low",
            "High",
            "High",
            "Low",
            "Medium",
            "Low",
            "Medium",
            "Medium",
            "Low",
            "High",
            "High",
            "High",
            "Low",
            "Medium",
            "Medium",
            "Medium",
            "Low",
            "Low",
            "Low",
            "High",
            "Medium",
            "Medium",
            "Medium",
            "High",
            "High",
            "Medium",
            "Medium",
            "Low",
            "Medium",
            "Low",
            "Medium",
            "High",
            "Low",
            "Low",
            "Medium",
            "High",
            "Low",
            "Medium",
            "Medium",
            "Low",
            "Low"
           ]
          },
          {
           "categoryarray": [
            "Low",
            "Medium",
            "High"
           ],
           "categoryorder": "array",
           "label": "Service",
           "values": [
            "High",
            "Low",
            "High",
            "Medium",
            null,
            "Medium",
            "Low",
            "High",
            "High",
            "Low",
            "Low",
            "High",
            "Medium",
            "Medium",
            "Medium",
            "Medium",
            "Medium",
            "Medium",
            "Low",
            "High",
            "Low",
            "Medium",
            "Low",
            "Low",
            "Low",
            "Low",
            "Medium",
            "Medium",
            "High",
            "High",
            "High",
            "Medium",
            "Low",
            "High",
            "Low",
            "Medium",
            "Low",
            "High",
            "High",
            "Low",
            "High",
            "High",
            "High",
            "Low",
            "Medium",
            "High",
            "Low",
            null,
            "High",
            "Low",
            "High",
            "Medium",
            "Low",
            "Medium",
            "Medium",
            "High",
            "Low",
            "Medium",
            "Low",
            "Low",
            "Low",
            "High",
            "High",
            "High",
            "Medium",
            "High",
            "High",
            "High",
            "Medium",
            "High",
            "Low",
            "High",
            "Low",
            "Low",
            "High",
            "Low",
            "Medium",
            "Medium",
            "High",
            "High",
            "High",
            "Low",
            null,
            "Medium",
            "Medium",
            "High",
            "Low",
            "High",
            "Low",
            "Low",
            "Medium",
            "Low",
            "Low",
            null,
            "Medium",
            "Low",
            "Medium",
            "High",
            "Medium",
            "Low",
            "Medium",
            "Medium",
            "High",
            "High",
            "Medium",
            "High",
            "Medium",
            "High",
            "Medium",
            "Low",
            "Medium",
            "Medium",
            "Low",
            "Low",
            "Medium",
            "High",
            "Medium",
            "High",
            "High",
            "Medium",
            "High",
            "High",
            "Medium",
            "Low",
            "Low",
            "Low",
            "Medium",
            "High",
            "Low",
            "Low",
            "Low",
            "Medium",
            "Low",
            "Medium",
            "Low",
            "Low",
            "Medium"
           ]
          }
         ],
         "line": {
          "color": [
           2,
           0,
           0,
           2,
           0,
           1,
           1,
           2,
           2,
           1,
           0,
           2,
           2,
           0,
           1,
           2,
           1,
           0,
           1,
           2,
           2,
           2,
           1,
           0,
           2,
           2,
           1,
           0,
           0,
           1,
           2,
           0,
           2,
           2,
           0,
           0,
           1,
           1,
           2,
           0,
           1,
           2,
           1,
           0,
           2,
           0,
           0,
           2,
           2,
           0,
           1,
           0,
           2,
           0,
           1,
           2,
           0,
           1,
           2,
           0,
           0,
           2,
           2,
           2,
           1,
           2,
           1,
           1,
           1,
           1,
           0,
           0,
           1,
           0,
           0,
           1,
           0,
           2,
           2,
           2,
           1,
           1,
           0,
           0,
           1,
           1,
           0,
           2,
           2,
           2,
           0,
           0,
           1,
           2,
           0,
           0,
           0,
           1,
           2,
           0,
           1,
           0,
           1,
           0,
           1,
           2,
           2,
           2,
           0,
           1,
           2,
           1,
           2,
           0,
           1,
           2,
           2,
           1,
           2,
           1,
           2,
           1,
           0,
           1,
           1,
           0,
           0,
           1,
           0,
           0,
           1,
           2,
           0,
           1,
           2,
           1,
           1
          ],
          "colorscale": [
           [
            0,
            "#b0c4de"
           ],
           [
            0.5,
            "#3cb371"
           ],
           [
            1,
            "#e9967a"
           ]
          ]
         },
         "type": "parcats"
        }
       ],
       "layout": {
        "height": 600,
        "template": {
         "data": {
          "bar": [
           {
            "error_x": {
             "color": "#2a3f5f"
            },
            "error_y": {
             "color": "#2a3f5f"
            },
            "marker": {
             "line": {
              "color": "#E5ECF6",
              "width": 0.5
             },
             "pattern": {
              "fillmode": "overlay",
              "size": 10,
              "solidity": 0.2
             }
            },
            "type": "bar"
           }
          ],
          "barpolar": [
           {
            "marker": {
             "line": {
              "color": "#E5ECF6",
              "width": 0.5
             },
             "pattern": {
              "fillmode": "overlay",
              "size": 10,
              "solidity": 0.2
             }
            },
            "type": "barpolar"
           }
          ],
          "carpet": [
           {
            "aaxis": {
             "endlinecolor": "#2a3f5f",
             "gridcolor": "white",
             "linecolor": "white",
             "minorgridcolor": "white",
             "startlinecolor": "#2a3f5f"
            },
            "baxis": {
             "endlinecolor": "#2a3f5f",
             "gridcolor": "white",
             "linecolor": "white",
             "minorgridcolor": "white",
             "startlinecolor": "#2a3f5f"
            },
            "type": "carpet"
           }
          ],
          "choropleth": [
           {
            "colorbar": {
             "outlinewidth": 0,
             "ticks": ""
            },
            "type": "choropleth"
           }
          ],
          "contour": [
           {
            "colorbar": {
             "outlinewidth": 0,
             "ticks": ""
            },
            "colorscale": [
             [
              0,
              "#0d0887"
             ],
             [
              0.1111111111111111,
              "#46039f"
             ],
             [
              0.2222222222222222,
              "#7201a8"
             ],
             [
              0.3333333333333333,
              "#9c179e"
             ],
             [
              0.4444444444444444,
              "#bd3786"
             ],
             [
              0.5555555555555556,
              "#d8576b"
             ],
             [
              0.6666666666666666,
              "#ed7953"
             ],
             [
              0.7777777777777778,
              "#fb9f3a"
             ],
             [
              0.8888888888888888,
              "#fdca26"
             ],
             [
              1,
              "#f0f921"
             ]
            ],
            "type": "contour"
           }
          ],
          "contourcarpet": [
           {
            "colorbar": {
             "outlinewidth": 0,
             "ticks": ""
            },
            "type": "contourcarpet"
           }
          ],
          "heatmap": [
           {
            "colorbar": {
             "outlinewidth": 0,
             "ticks": ""
            },
            "colorscale": [
             [
              0,
              "#0d0887"
             ],
             [
              0.1111111111111111,
              "#46039f"
             ],
             [
              0.2222222222222222,
              "#7201a8"
             ],
             [
              0.3333333333333333,
              "#9c179e"
             ],
             [
              0.4444444444444444,
              "#bd3786"
             ],
             [
              0.5555555555555556,
              "#d8576b"
             ],
             [
              0.6666666666666666,
              "#ed7953"
             ],
             [
              0.7777777777777778,
              "#fb9f3a"
             ],
             [
              0.8888888888888888,
              "#fdca26"
             ],
             [
              1,
              "#f0f921"
             ]
            ],
            "type": "heatmap"
           }
          ],
          "heatmapgl": [
           {
            "colorbar": {
             "outlinewidth": 0,
             "ticks": ""
            },
            "colorscale": [
             [
              0,
              "#0d0887"
             ],
             [
              0.1111111111111111,
              "#46039f"
             ],
             [
              0.2222222222222222,
              "#7201a8"
             ],
             [
              0.3333333333333333,
              "#9c179e"
             ],
             [
              0.4444444444444444,
              "#bd3786"
             ],
             [
              0.5555555555555556,
              "#d8576b"
             ],
             [
              0.6666666666666666,
              "#ed7953"
             ],
             [
              0.7777777777777778,
              "#fb9f3a"
             ],
             [
              0.8888888888888888,
              "#fdca26"
             ],
             [
              1,
              "#f0f921"
             ]
            ],
            "type": "heatmapgl"
           }
          ],
          "histogram": [
           {
            "marker": {
             "pattern": {
              "fillmode": "overlay",
              "size": 10,
              "solidity": 0.2
             }
            },
            "type": "histogram"
           }
          ],
          "histogram2d": [
           {
            "colorbar": {
             "outlinewidth": 0,
             "ticks": ""
            },
            "colorscale": [
             [
              0,
              "#0d0887"
             ],
             [
              0.1111111111111111,
              "#46039f"
             ],
             [
              0.2222222222222222,
              "#7201a8"
             ],
             [
              0.3333333333333333,
              "#9c179e"
             ],
             [
              0.4444444444444444,
              "#bd3786"
             ],
             [
              0.5555555555555556,
              "#d8576b"
             ],
             [
              0.6666666666666666,
              "#ed7953"
             ],
             [
              0.7777777777777778,
              "#fb9f3a"
             ],
             [
              0.8888888888888888,
              "#fdca26"
             ],
             [
              1,
              "#f0f921"
             ]
            ],
            "type": "histogram2d"
           }
          ],
          "histogram2dcontour": [
           {
            "colorbar": {
             "outlinewidth": 0,
             "ticks": ""
            },
            "colorscale": [
             [
              0,
              "#0d0887"
             ],
             [
              0.1111111111111111,
              "#46039f"
             ],
             [
              0.2222222222222222,
              "#7201a8"
             ],
             [
              0.3333333333333333,
              "#9c179e"
             ],
             [
              0.4444444444444444,
              "#bd3786"
             ],
             [
              0.5555555555555556,
              "#d8576b"
             ],
             [
              0.6666666666666666,
              "#ed7953"
             ],
             [
              0.7777777777777778,
              "#fb9f3a"
             ],
             [
              0.8888888888888888,
              "#fdca26"
             ],
             [
              1,
              "#f0f921"
             ]
            ],
            "type": "histogram2dcontour"
           }
          ],
          "mesh3d": [
           {
            "colorbar": {
             "outlinewidth": 0,
             "ticks": ""
            },
            "type": "mesh3d"
           }
          ],
          "parcoords": [
           {
            "line": {
             "colorbar": {
              "outlinewidth": 0,
              "ticks": ""
             }
            },
            "type": "parcoords"
           }
          ],
          "pie": [
           {
            "automargin": true,
            "type": "pie"
           }
          ],
          "scatter": [
           {
            "fillpattern": {
             "fillmode": "overlay",
             "size": 10,
             "solidity": 0.2
            },
            "type": "scatter"
           }
          ],
          "scatter3d": [
           {
            "line": {
             "colorbar": {
              "outlinewidth": 0,
              "ticks": ""
             }
            },
            "marker": {
             "colorbar": {
              "outlinewidth": 0,
              "ticks": ""
             }
            },
            "type": "scatter3d"
           }
          ],
          "scattercarpet": [
           {
            "marker": {
             "colorbar": {
              "outlinewidth": 0,
              "ticks": ""
             }
            },
            "type": "scattercarpet"
           }
          ],
          "scattergeo": [
           {
            "marker": {
             "colorbar": {
              "outlinewidth": 0,
              "ticks": ""
             }
            },
            "type": "scattergeo"
           }
          ],
          "scattergl": [
           {
            "marker": {
             "colorbar": {
              "outlinewidth": 0,
              "ticks": ""
             }
            },
            "type": "scattergl"
           }
          ],
          "scattermapbox": [
           {
            "marker": {
             "colorbar": {
              "outlinewidth": 0,
              "ticks": ""
             }
            },
            "type": "scattermapbox"
           }
          ],
          "scatterpolar": [
           {
            "marker": {
             "colorbar": {
              "outlinewidth": 0,
              "ticks": ""
             }
            },
            "type": "scatterpolar"
           }
          ],
          "scatterpolargl": [
           {
            "marker": {
             "colorbar": {
              "outlinewidth": 0,
              "ticks": ""
             }
            },
            "type": "scatterpolargl"
           }
          ],
          "scatterternary": [
           {
            "marker": {
             "colorbar": {
              "outlinewidth": 0,
              "ticks": ""
             }
            },
            "type": "scatterternary"
           }
          ],
          "surface": [
           {
            "colorbar": {
             "outlinewidth": 0,
             "ticks": ""
            },
            "colorscale": [
             [
              0,
              "#0d0887"
             ],
             [
              0.1111111111111111,
              "#46039f"
             ],
             [
              0.2222222222222222,
              "#7201a8"
             ],
             [
              0.3333333333333333,
              "#9c179e"
             ],
             [
              0.4444444444444444,
              "#bd3786"
             ],
             [
              0.5555555555555556,
              "#d8576b"
             ],
             [
              0.6666666666666666,
              "#ed7953"
             ],
             [
              0.7777777777777778,
              "#fb9f3a"
             ],
             [
              0.8888888888888888,
              "#fdca26"
             ],
             [
              1,
              "#f0f921"
             ]
            ],
            "type": "surface"
           }
          ],
          "table": [
           {
            "cells": {
             "fill": {
              "color": "#EBF0F8"
             },
             "line": {
              "color": "white"
             }
            },
            "header": {
             "fill": {
              "color": "#C8D4E3"
             },
             "line": {
              "color": "white"
             }
            },
            "type": "table"
           }
          ]
         },
         "layout": {
          "annotationdefaults": {
           "arrowcolor": "#2a3f5f",
           "arrowhead": 0,
           "arrowwidth": 1
          },
          "autotypenumbers": "strict",
          "coloraxis": {
           "colorbar": {
            "outlinewidth": 0,
            "ticks": ""
           }
          },
          "colorscale": {
           "diverging": [
            [
             0,
             "#8e0152"
            ],
            [
             0.1,
             "#c51b7d"
            ],
            [
             0.2,
             "#de77ae"
            ],
            [
             0.3,
             "#f1b6da"
            ],
            [
             0.4,
             "#fde0ef"
            ],
            [
             0.5,
             "#f7f7f7"
            ],
            [
             0.6,
             "#e6f5d0"
            ],
            [
             0.7,
             "#b8e186"
            ],
            [
             0.8,
             "#7fbc41"
            ],
            [
             0.9,
             "#4d9221"
            ],
            [
             1,
             "#276419"
            ]
           ],
           "sequential": [
            [
             0,
             "#0d0887"
            ],
            [
             0.1111111111111111,
             "#46039f"
            ],
            [
             0.2222222222222222,
             "#7201a8"
            ],
            [
             0.3333333333333333,
             "#9c179e"
            ],
            [
             0.4444444444444444,
             "#bd3786"
            ],
            [
             0.5555555555555556,
             "#d8576b"
            ],
            [
             0.6666666666666666,
             "#ed7953"
            ],
            [
             0.7777777777777778,
             "#fb9f3a"
            ],
            [
             0.8888888888888888,
             "#fdca26"
            ],
            [
             1,
             "#f0f921"
            ]
           ],
           "sequentialminus": [
            [
             0,
             "#0d0887"
            ],
            [
             0.1111111111111111,
             "#46039f"
            ],
            [
             0.2222222222222222,
             "#7201a8"
            ],
            [
             0.3333333333333333,
             "#9c179e"
            ],
            [
             0.4444444444444444,
             "#bd3786"
            ],
            [
             0.5555555555555556,
             "#d8576b"
            ],
            [
             0.6666666666666666,
             "#ed7953"
            ],
            [
             0.7777777777777778,
             "#fb9f3a"
            ],
            [
             0.8888888888888888,
             "#fdca26"
            ],
            [
             1,
             "#f0f921"
            ]
           ]
          },
          "colorway": [
           "#636efa",
           "#EF553B",
           "#00cc96",
           "#ab63fa",
           "#FFA15A",
           "#19d3f3",
           "#FF6692",
           "#B6E880",
           "#FF97FF",
           "#FECB52"
          ],
          "font": {
           "color": "#2a3f5f"
          },
          "geo": {
           "bgcolor": "white",
           "lakecolor": "white",
           "landcolor": "#E5ECF6",
           "showlakes": true,
           "showland": true,
           "subunitcolor": "white"
          },
          "hoverlabel": {
           "align": "left"
          },
          "hovermode": "closest",
          "mapbox": {
           "style": "light"
          },
          "paper_bgcolor": "white",
          "plot_bgcolor": "#E5ECF6",
          "polar": {
           "angularaxis": {
            "gridcolor": "white",
            "linecolor": "white",
            "ticks": ""
           },
           "bgcolor": "#E5ECF6",
           "radialaxis": {
            "gridcolor": "white",
            "linecolor": "white",
            "ticks": ""
           }
          },
          "scene": {
           "xaxis": {
            "backgroundcolor": "#E5ECF6",
            "gridcolor": "white",
            "gridwidth": 2,
            "linecolor": "white",
            "showbackground": true,
            "ticks": "",
            "zerolinecolor": "white"
           },
           "yaxis": {
            "backgroundcolor": "#E5ECF6",
            "gridcolor": "white",
            "gridwidth": 2,
            "linecolor": "white",
            "showbackground": true,
            "ticks": "",
            "zerolinecolor": "white"
           },
           "zaxis": {
            "backgroundcolor": "#E5ECF6",
            "gridcolor": "white",
            "gridwidth": 2,
            "linecolor": "white",
            "showbackground": true,
            "ticks": "",
            "zerolinecolor": "white"
           }
          },
          "shapedefaults": {
           "line": {
            "color": "#2a3f5f"
           }
          },
          "ternary": {
           "aaxis": {
            "gridcolor": "white",
            "linecolor": "white",
            "ticks": ""
           },
           "baxis": {
            "gridcolor": "white",
            "linecolor": "white",
            "ticks": ""
           },
           "bgcolor": "#E5ECF6",
           "caxis": {
            "gridcolor": "white",
            "linecolor": "white",
            "ticks": ""
           }
          },
          "title": {
           "x": 0.05
          },
          "xaxis": {
           "automargin": true,
           "gridcolor": "white",
           "linecolor": "white",
           "ticks": "",
           "title": {
            "standoff": 15
           },
           "zerolinecolor": "white",
           "zerolinewidth": 2
          },
          "yaxis": {
           "automargin": true,
           "gridcolor": "white",
           "linecolor": "white",
           "ticks": "",
           "title": {
            "standoff": 15
           },
           "zerolinecolor": "white",
           "zerolinewidth": 2
          }
         }
        },
        "title": {
         "text": "Analysis of restaurant tips for all variables"
        }
       }
      }
     },
     "metadata": {},
     "output_type": "display_data"
    },
    {
     "name": "stdout",
     "output_type": "stream",
     "text": [
      "[ 40.2         82.9         97.06666667 100.        ]\n",
      "40.2\n",
      "100.0\n"
     ]
    }
   ],
   "source": [
    "qcut_series_lead, qcut_intervals_lead = pd.qcut(concat['lead_time'], q=3, retbins=True, labels=['Low', 'Medium', 'High'])\n",
    "qcut_series_gdp, qcut_intervals_gdp = pd.qcut(concat['GDP($percapita)'], q=3, retbins=True, labels=['Low', 'Medium', 'High'])\n",
    "qcut_series_lit, qcut_intervals_lit = pd.qcut(concat['Literacy(%)'], q=3, retbins=True, labels=['Low', 'Medium', 'High'])\n",
    "qcut_series_phones, qcut_intervals_phones = pd.qcut(concat['Phones(per1000)'], q=3, retbins=True, labels=['Low', 'Medium', 'High'], duplicates='drop')\n",
    "qcut_series_ser, qcut_intervals_ser = pd.qcut(concat['Service'], q=3, retbins=True, labels=['Low', 'Medium', 'High'])\n",
    "\n",
    "lead_dim = go.parcats.Dimension(\n",
    "    values=qcut_series_lead,\n",
    "    label=\"Lead Time\",\n",
    "    categoryorder='array',\n",
    "    categoryarray=['Low', 'Medium', 'High']\n",
    ")\n",
    "gdp_dim = go.parcats.Dimension(\n",
    "    values=qcut_series_gdp,\n",
    "    categoryorder='array',\n",
    "    categoryarray=['Low', 'Medium', 'High'],\n",
    "    label=\"GDP\"\n",
    ")\n",
    "lit_dim = go.parcats.Dimension(\n",
    "    values=qcut_series_lit,\n",
    "    categoryorder='array',\n",
    "    categoryarray=['Low', 'Medium', 'High'],\n",
    "    label=\"Literacy\"\n",
    ")\n",
    "phones_dim = go.parcats.Dimension(\n",
    "    values=qcut_series_phones,\n",
    "    categoryorder='array',\n",
    "    categoryarray=['Low', 'Medium', 'High'],\n",
    "    label=\"Phones\"\n",
    ")\n",
    "ser_dim = go.parcats.Dimension(\n",
    "    values=qcut_series_ser,\n",
    "    categoryorder='array',\n",
    "    categoryarray=['Low', 'Medium', 'High'],\n",
    "    label=\"Service\"\n",
    ")\n",
    "\n",
    "# fig_air = go.Figure(data=[go.Parcats(\n",
    "#     dimensions=[month_dim, repeated_dim, weekend_dim, week_dim, adr_dim]\n",
    "# )], layout=go.Layout(title='Analysis of restaurant tips for all variables'))\n",
    "\n",
    "# fig_air.show()\n",
    "\n",
    "color = qcut_series_lead.astype('category').cat.codes\n",
    "colorscale = ['#b0c4de', '#3cb371', '#e9967a']\n",
    "\n",
    "fig = go.Figure(go.Parcats(\n",
    "    dimensions=[lit_dim, gdp_dim, lead_dim, phones_dim, ser_dim], line={'color': color, 'colorscale': colorscale}\n",
    "), layout=go.Layout(title='Analysis of restaurant tips for all variables', height=600))\n",
    "\n",
    "\n",
    "fig.show()\n",
    "print(qcut_intervals_lit)\n",
    "print(min(concat['Literacy(%)']))\n",
    "print(max(concat['Literacy(%)']))"
   ]
  },
  {
   "cell_type": "code",
   "execution_count": 180,
   "metadata": {},
   "outputs": [
    {
     "data": {
      "application/vnd.plotly.v1+json": {
       "config": {
        "plotlyServerURL": "https://plot.ly"
       },
       "data": [
        {
         "hovertemplate": "lead_time=%{x}<br>Infantmortality(per1000births)=%{y}<extra></extra>",
         "legendgroup": "",
         "marker": {
          "color": "#636efa",
          "symbol": "circle"
         },
         "mode": "markers",
         "name": "",
         "orientation": "v",
         "showlegend": false,
         "type": "scatter",
         "x": [
          126,
          23.096685082872927,
          0,
          103.41666666666667,
          47,
          66.84579439252336,
          56.625,
          125.36854460093896,
          117.7403008709422,
          70.17647058823529,
          26,
          99.66737830913749,
          274,
          28.083333333333332,
          73.25333333333333,
          173.8,
          78.42307692307692,
          17.1,
          83.29001798561151,
          192,
          91,
          91.07167630057803,
          53.6,
          42.74374374374374,
          118.85691946833464,
          87.1,
          62.478873239436616,
          22.5,
          13.5,
          77.33333333333333,
          137.36764100452862,
          0,
          124,
          113.13103448275862,
          36.66990291262136,
          28.703703703703702,
          68.65625,
          54.851540616246496,
          98.89156626506023,
          32.666666666666664,
          67.21252796420582,
          322,
          82.32213154104657,
          47.25,
          97.68181818181819,
          31.333333333333332,
          42.25,
          117.27777777777777,
          103,
          40.888888888888886,
          69.0703125,
          5.25,
          180,
          12,
          71.12,
          98.2304347826087,
          31.2,
          48.89473684210526,
          120.44651851851852,
          42.42168674698795,
          19.214285714285715,
          155.3859649122807,
          88.94768310911809,
          90.66489644184811,
          80,
          123.875,
          82.0952380952381,
          55.09137055837564,
          60.578947368421055,
          64,
          30,
          34,
          50.375,
          2.5,
          47.16129032258065,
          49.625,
          20,
          94.93827160493827,
          97.70731707317073,
          93.2,
          64.5,
          52.034749034749034,
          36.25,
          0,
          73.75,
          47.90588235294118,
          0,
          102.77777777777777,
          94.77611940298507,
          148,
          43,
          1,
          76.32142857142857,
          208,
          44,
          30.441176470588236,
          21,
          80.57699619771863,
          122.74135090609555,
          3,
          78.33333333333333,
          41.785714285714285,
          58.22222222222222,
          26.724137931034484,
          58.05,
          169,
          90.7442872687704,
          115.56947931673184,
          35.5,
          62.333333333333336,
          108.154,
          80.22310126582279,
          102,
          6,
          55.72727272727273,
          89.56410256410257,
          142.26732673267327,
          54.2,
          137.3230769230769,
          64,
          106.4033203125,
          74,
          9.333333333333334,
          62,
          55.49152542372882,
          44,
          44.07692307692308,
          76.37254901960785,
          26.2,
          18.5,
          72.69117647058823,
          100.15625,
          14.75,
          54.76923076923077,
          84.125,
          68.5,
          83
         ],
         "xaxis": "x",
         "y": [
          5.89,
          191.19,
          21.03,
          21.52,
          4.05,
          15.18,
          23.28,
          4.69,
          4.66,
          81.74,
          69.29,
          4.68,
          85,
          62.6,
          20.55,
          17.27,
          13.37,
          53.11,
          29.61,
          12.5,
          54.58,
          4.39,
          8.8,
          24.18,
          24.18,
          68.26,
          20.97,
          74.93,
          6.33,
          7.18,
          4.16,
          104.13,
          14.15,
          4.56,
          31,
          23.66,
          32.59,
          4.42,
          7.87,
          95.32,
          3.57,
          12.62,
          4.26,
          53.64,
          18.59,
          4.71,
          51.43,
          5.13,
          8.6,
          107.17,
          5.53,
          35.93,
          33.26,
          29.32,
          6.84,
          8.57,
          35.6,
          56.29,
          5.39,
          41.58,
          50.25,
          3.31,
          7.03,
          5.94,
          12.36,
          5.24,
          17.35,
          3.26,
          29.21,
          61.47,
          71.48,
          48.52,
          9.95,
          85.22,
          24.52,
          24.6,
          4.7,
          6.89,
          4.81,
          9.55,
          4.39,
          41.62,
          5.43,
          76.83,
          56.52,
          20.91,
          116.79,
          3.89,
          130.79,
          70.89,
          15.03,
          103.32,
          17.7,
          62.4,
          48.98,
          98.8,
          29.11,
          5.04,
          3.7,
          66.98,
          19.51,
          72.44,
          20.47,
          31.94,
          23.51,
          14.84,
          8.51,
          5.05,
          25.63,
          18.61,
          26.43,
          15.39,
          91.23,
          62.5,
          55.51,
          2.29,
          12.89,
          23.57,
          7.41,
          4.45,
          2.77,
          15.53,
          29.53,
          66.61,
          20.48,
          110.76,
          24.77,
          6.4,
          98.54,
          67.83,
          20.34,
          11.95,
          71.1,
          22.2,
          25.95,
          88.29,
          67.69
         ],
         "yaxis": "y"
        },
        {
         "hovertemplate": "<b>OLS trendline</b><br>Infantmortality(per1000births) = -0.210099 * lead_time + 49.1104<br>R<sup>2</sup>=0.099695<br><br>lead_time=%{x}<br>Infantmortality(per1000births)=%{y} <b>(trend)</b><extra></extra>",
         "legendgroup": "",
         "marker": {
          "color": "#636efa",
          "symbol": "circle"
         },
         "mode": "lines",
         "name": "",
         "showlegend": false,
         "type": "scatter",
         "x": [
          0,
          0,
          0,
          0,
          1,
          2.5,
          3,
          5.25,
          6,
          9.333333333333334,
          12,
          13.5,
          14.75,
          17.1,
          18.5,
          19.214285714285715,
          20,
          21,
          22.5,
          23.096685082872927,
          26,
          26.2,
          26.724137931034484,
          28.083333333333332,
          28.703703703703702,
          30,
          30.441176470588236,
          31.2,
          31.333333333333332,
          32.666666666666664,
          34,
          35.5,
          36.25,
          36.66990291262136,
          40.888888888888886,
          41.785714285714285,
          42.25,
          42.42168674698795,
          42.74374374374374,
          43,
          44,
          44,
          44.07692307692308,
          47,
          47.16129032258065,
          47.25,
          47.90588235294118,
          48.89473684210526,
          49.625,
          50.375,
          52.034749034749034,
          53.6,
          54.2,
          54.76923076923077,
          54.851540616246496,
          55.09137055837564,
          55.49152542372882,
          55.72727272727273,
          56.625,
          58.05,
          58.22222222222222,
          60.578947368421055,
          62,
          62.333333333333336,
          62.478873239436616,
          64,
          64,
          64.5,
          66.84579439252336,
          67.21252796420582,
          68.5,
          68.65625,
          69.0703125,
          70.17647058823529,
          71.12,
          72.69117647058823,
          73.25333333333333,
          73.75,
          74,
          76.32142857142857,
          76.37254901960785,
          77.33333333333333,
          78.33333333333333,
          78.42307692307692,
          80,
          80.22310126582279,
          80.57699619771863,
          82.0952380952381,
          82.32213154104657,
          83,
          83.29001798561151,
          84.125,
          87.1,
          88.94768310911809,
          89.56410256410257,
          90.66489644184811,
          90.7442872687704,
          91,
          91.07167630057803,
          93.2,
          94.77611940298507,
          94.93827160493827,
          97.68181818181819,
          97.70731707317073,
          98.2304347826087,
          98.89156626506023,
          99.66737830913749,
          100.15625,
          102,
          102.77777777777777,
          103,
          103.41666666666667,
          106.4033203125,
          108.154,
          113.13103448275862,
          115.56947931673184,
          117.27777777777777,
          117.7403008709422,
          118.85691946833464,
          120.44651851851852,
          122.74135090609555,
          123.875,
          124,
          125.36854460093896,
          126,
          137.3230769230769,
          137.36764100452862,
          142.26732673267327,
          148,
          155.3859649122807,
          169,
          173.8,
          180,
          192,
          208,
          274,
          322
         ],
         "xaxis": "x",
         "y": [
          49.11037844844071,
          49.11037844844071,
          49.11037844844071,
          49.11037844844071,
          48.90027964368198,
          48.58513143654389,
          48.480082034164525,
          48.007359723457384,
          47.84978561988834,
          47.149456270692575,
          46.58919279133596,
          46.27404458419787,
          46.011421078249455,
          45.51768888706644,
          45.22355056040422,
          45.073479985576554,
          44.908402353266126,
          44.6983035485074,
          44.3831553413693,
          44.257792518640336,
          43.64780952471375,
          43.605789763762004,
          43.495669010922946,
          43.2101036814664,
          43.079764608143854,
          42.80741430567883,
          42.71472365652057,
          42.55529573996836,
          42.52728256600053,
          42.247150826322226,
          41.967019086643916,
          41.65187087950582,
          41.494296775936775,
          41.40607567588032,
          40.51967176497267,
          40.33124982102238,
          40.2337039473844,
          40.19763276704932,
          40.12996897696674,
          40.07612984381535,
          39.86603103905662,
          39.86603103905662,
          39.84986959253672,
          39.235734624780434,
          39.20184772078709,
          39.18320992359075,
          39.04540982517547,
          38.83765267892179,
          38.68422526228878,
          38.52665115871973,
          38.1779398703195,
          37.84908251337282,
          37.72302323051758,
          37.60342852627031,
          37.58613532579243,
          37.53574734160574,
          37.451675282676646,
          37.40214505597698,
          37.21353362897767,
          36.914142832196475,
          36.8779591491547,
          36.38281401279348,
          36.084252553399494,
          36.01421961847992,
          35.983641858162926,
          35.664054943882036,
          35.664054943882036,
          35.55900554150267,
          35.06615694342379,
          34.989106658348405,
          34.718610322467754,
          34.685782384224204,
          34.598788347878795,
          34.36638585566636,
          34.16815145399988,
          33.83804915546426,
          33.719940670514596,
          33.615591597484425,
          33.56306689629474,
          33.07533752810484,
          33.064597183043645,
          32.86273754709899,
          32.65263874234026,
          32.63378372140036,
          32.30247406774237,
          32.25560075845284,
          32.18124785625136,
          31.86226704824789,
          31.81459700647594,
          31.672177653466182,
          31.61124522133067,
          31.43581649811261,
          30.810772553955395,
          30.42257654115679,
          30.29306755043452,
          30.061792072434457,
          30.045112154589276,
          29.991387215396347,
          29.976328110315375,
          29.529169844927143,
          29.19802904220294,
          29.163961058383578,
          28.587545201781204,
          28.58218791518536,
          28.47228150968432,
          28.333378575432885,
          28.170381392254825,
          28.067670034324234,
          27.68030036305033,
          27.516890181571316,
          27.4702015582916,
          27.382660389642126,
          26.755168028424244,
          26.387352318565107,
          25.34168332249454,
          24.82936897740667,
          24.47045751256974,
          24.373281963522583,
          24.138681730839064,
          23.80470887034982,
          23.322567328598264,
          23.084389008953124,
          23.058126658358283,
          22.770597073441994,
          22.637929048840824,
          20.258964121111216,
          20.24960126086304,
          19.220183145686445,
          18.01575534414878,
          16.463972944088688,
          13.603680444215463,
          12.595206181373563,
          11.29259359186944,
          8.771407934764696,
          5.4098270586250266,
          -8.45669405545111,
          -18.541436683870117
         ],
         "yaxis": "y"
        }
       ],
       "layout": {
        "legend": {
         "tracegroupgap": 0
        },
        "margin": {
         "t": 60
        },
        "template": {
         "data": {
          "bar": [
           {
            "error_x": {
             "color": "#2a3f5f"
            },
            "error_y": {
             "color": "#2a3f5f"
            },
            "marker": {
             "line": {
              "color": "#E5ECF6",
              "width": 0.5
             },
             "pattern": {
              "fillmode": "overlay",
              "size": 10,
              "solidity": 0.2
             }
            },
            "type": "bar"
           }
          ],
          "barpolar": [
           {
            "marker": {
             "line": {
              "color": "#E5ECF6",
              "width": 0.5
             },
             "pattern": {
              "fillmode": "overlay",
              "size": 10,
              "solidity": 0.2
             }
            },
            "type": "barpolar"
           }
          ],
          "carpet": [
           {
            "aaxis": {
             "endlinecolor": "#2a3f5f",
             "gridcolor": "white",
             "linecolor": "white",
             "minorgridcolor": "white",
             "startlinecolor": "#2a3f5f"
            },
            "baxis": {
             "endlinecolor": "#2a3f5f",
             "gridcolor": "white",
             "linecolor": "white",
             "minorgridcolor": "white",
             "startlinecolor": "#2a3f5f"
            },
            "type": "carpet"
           }
          ],
          "choropleth": [
           {
            "colorbar": {
             "outlinewidth": 0,
             "ticks": ""
            },
            "type": "choropleth"
           }
          ],
          "contour": [
           {
            "colorbar": {
             "outlinewidth": 0,
             "ticks": ""
            },
            "colorscale": [
             [
              0,
              "#0d0887"
             ],
             [
              0.1111111111111111,
              "#46039f"
             ],
             [
              0.2222222222222222,
              "#7201a8"
             ],
             [
              0.3333333333333333,
              "#9c179e"
             ],
             [
              0.4444444444444444,
              "#bd3786"
             ],
             [
              0.5555555555555556,
              "#d8576b"
             ],
             [
              0.6666666666666666,
              "#ed7953"
             ],
             [
              0.7777777777777778,
              "#fb9f3a"
             ],
             [
              0.8888888888888888,
              "#fdca26"
             ],
             [
              1,
              "#f0f921"
             ]
            ],
            "type": "contour"
           }
          ],
          "contourcarpet": [
           {
            "colorbar": {
             "outlinewidth": 0,
             "ticks": ""
            },
            "type": "contourcarpet"
           }
          ],
          "heatmap": [
           {
            "colorbar": {
             "outlinewidth": 0,
             "ticks": ""
            },
            "colorscale": [
             [
              0,
              "#0d0887"
             ],
             [
              0.1111111111111111,
              "#46039f"
             ],
             [
              0.2222222222222222,
              "#7201a8"
             ],
             [
              0.3333333333333333,
              "#9c179e"
             ],
             [
              0.4444444444444444,
              "#bd3786"
             ],
             [
              0.5555555555555556,
              "#d8576b"
             ],
             [
              0.6666666666666666,
              "#ed7953"
             ],
             [
              0.7777777777777778,
              "#fb9f3a"
             ],
             [
              0.8888888888888888,
              "#fdca26"
             ],
             [
              1,
              "#f0f921"
             ]
            ],
            "type": "heatmap"
           }
          ],
          "heatmapgl": [
           {
            "colorbar": {
             "outlinewidth": 0,
             "ticks": ""
            },
            "colorscale": [
             [
              0,
              "#0d0887"
             ],
             [
              0.1111111111111111,
              "#46039f"
             ],
             [
              0.2222222222222222,
              "#7201a8"
             ],
             [
              0.3333333333333333,
              "#9c179e"
             ],
             [
              0.4444444444444444,
              "#bd3786"
             ],
             [
              0.5555555555555556,
              "#d8576b"
             ],
             [
              0.6666666666666666,
              "#ed7953"
             ],
             [
              0.7777777777777778,
              "#fb9f3a"
             ],
             [
              0.8888888888888888,
              "#fdca26"
             ],
             [
              1,
              "#f0f921"
             ]
            ],
            "type": "heatmapgl"
           }
          ],
          "histogram": [
           {
            "marker": {
             "pattern": {
              "fillmode": "overlay",
              "size": 10,
              "solidity": 0.2
             }
            },
            "type": "histogram"
           }
          ],
          "histogram2d": [
           {
            "colorbar": {
             "outlinewidth": 0,
             "ticks": ""
            },
            "colorscale": [
             [
              0,
              "#0d0887"
             ],
             [
              0.1111111111111111,
              "#46039f"
             ],
             [
              0.2222222222222222,
              "#7201a8"
             ],
             [
              0.3333333333333333,
              "#9c179e"
             ],
             [
              0.4444444444444444,
              "#bd3786"
             ],
             [
              0.5555555555555556,
              "#d8576b"
             ],
             [
              0.6666666666666666,
              "#ed7953"
             ],
             [
              0.7777777777777778,
              "#fb9f3a"
             ],
             [
              0.8888888888888888,
              "#fdca26"
             ],
             [
              1,
              "#f0f921"
             ]
            ],
            "type": "histogram2d"
           }
          ],
          "histogram2dcontour": [
           {
            "colorbar": {
             "outlinewidth": 0,
             "ticks": ""
            },
            "colorscale": [
             [
              0,
              "#0d0887"
             ],
             [
              0.1111111111111111,
              "#46039f"
             ],
             [
              0.2222222222222222,
              "#7201a8"
             ],
             [
              0.3333333333333333,
              "#9c179e"
             ],
             [
              0.4444444444444444,
              "#bd3786"
             ],
             [
              0.5555555555555556,
              "#d8576b"
             ],
             [
              0.6666666666666666,
              "#ed7953"
             ],
             [
              0.7777777777777778,
              "#fb9f3a"
             ],
             [
              0.8888888888888888,
              "#fdca26"
             ],
             [
              1,
              "#f0f921"
             ]
            ],
            "type": "histogram2dcontour"
           }
          ],
          "mesh3d": [
           {
            "colorbar": {
             "outlinewidth": 0,
             "ticks": ""
            },
            "type": "mesh3d"
           }
          ],
          "parcoords": [
           {
            "line": {
             "colorbar": {
              "outlinewidth": 0,
              "ticks": ""
             }
            },
            "type": "parcoords"
           }
          ],
          "pie": [
           {
            "automargin": true,
            "type": "pie"
           }
          ],
          "scatter": [
           {
            "fillpattern": {
             "fillmode": "overlay",
             "size": 10,
             "solidity": 0.2
            },
            "type": "scatter"
           }
          ],
          "scatter3d": [
           {
            "line": {
             "colorbar": {
              "outlinewidth": 0,
              "ticks": ""
             }
            },
            "marker": {
             "colorbar": {
              "outlinewidth": 0,
              "ticks": ""
             }
            },
            "type": "scatter3d"
           }
          ],
          "scattercarpet": [
           {
            "marker": {
             "colorbar": {
              "outlinewidth": 0,
              "ticks": ""
             }
            },
            "type": "scattercarpet"
           }
          ],
          "scattergeo": [
           {
            "marker": {
             "colorbar": {
              "outlinewidth": 0,
              "ticks": ""
             }
            },
            "type": "scattergeo"
           }
          ],
          "scattergl": [
           {
            "marker": {
             "colorbar": {
              "outlinewidth": 0,
              "ticks": ""
             }
            },
            "type": "scattergl"
           }
          ],
          "scattermapbox": [
           {
            "marker": {
             "colorbar": {
              "outlinewidth": 0,
              "ticks": ""
             }
            },
            "type": "scattermapbox"
           }
          ],
          "scatterpolar": [
           {
            "marker": {
             "colorbar": {
              "outlinewidth": 0,
              "ticks": ""
             }
            },
            "type": "scatterpolar"
           }
          ],
          "scatterpolargl": [
           {
            "marker": {
             "colorbar": {
              "outlinewidth": 0,
              "ticks": ""
             }
            },
            "type": "scatterpolargl"
           }
          ],
          "scatterternary": [
           {
            "marker": {
             "colorbar": {
              "outlinewidth": 0,
              "ticks": ""
             }
            },
            "type": "scatterternary"
           }
          ],
          "surface": [
           {
            "colorbar": {
             "outlinewidth": 0,
             "ticks": ""
            },
            "colorscale": [
             [
              0,
              "#0d0887"
             ],
             [
              0.1111111111111111,
              "#46039f"
             ],
             [
              0.2222222222222222,
              "#7201a8"
             ],
             [
              0.3333333333333333,
              "#9c179e"
             ],
             [
              0.4444444444444444,
              "#bd3786"
             ],
             [
              0.5555555555555556,
              "#d8576b"
             ],
             [
              0.6666666666666666,
              "#ed7953"
             ],
             [
              0.7777777777777778,
              "#fb9f3a"
             ],
             [
              0.8888888888888888,
              "#fdca26"
             ],
             [
              1,
              "#f0f921"
             ]
            ],
            "type": "surface"
           }
          ],
          "table": [
           {
            "cells": {
             "fill": {
              "color": "#EBF0F8"
             },
             "line": {
              "color": "white"
             }
            },
            "header": {
             "fill": {
              "color": "#C8D4E3"
             },
             "line": {
              "color": "white"
             }
            },
            "type": "table"
           }
          ]
         },
         "layout": {
          "annotationdefaults": {
           "arrowcolor": "#2a3f5f",
           "arrowhead": 0,
           "arrowwidth": 1
          },
          "autotypenumbers": "strict",
          "coloraxis": {
           "colorbar": {
            "outlinewidth": 0,
            "ticks": ""
           }
          },
          "colorscale": {
           "diverging": [
            [
             0,
             "#8e0152"
            ],
            [
             0.1,
             "#c51b7d"
            ],
            [
             0.2,
             "#de77ae"
            ],
            [
             0.3,
             "#f1b6da"
            ],
            [
             0.4,
             "#fde0ef"
            ],
            [
             0.5,
             "#f7f7f7"
            ],
            [
             0.6,
             "#e6f5d0"
            ],
            [
             0.7,
             "#b8e186"
            ],
            [
             0.8,
             "#7fbc41"
            ],
            [
             0.9,
             "#4d9221"
            ],
            [
             1,
             "#276419"
            ]
           ],
           "sequential": [
            [
             0,
             "#0d0887"
            ],
            [
             0.1111111111111111,
             "#46039f"
            ],
            [
             0.2222222222222222,
             "#7201a8"
            ],
            [
             0.3333333333333333,
             "#9c179e"
            ],
            [
             0.4444444444444444,
             "#bd3786"
            ],
            [
             0.5555555555555556,
             "#d8576b"
            ],
            [
             0.6666666666666666,
             "#ed7953"
            ],
            [
             0.7777777777777778,
             "#fb9f3a"
            ],
            [
             0.8888888888888888,
             "#fdca26"
            ],
            [
             1,
             "#f0f921"
            ]
           ],
           "sequentialminus": [
            [
             0,
             "#0d0887"
            ],
            [
             0.1111111111111111,
             "#46039f"
            ],
            [
             0.2222222222222222,
             "#7201a8"
            ],
            [
             0.3333333333333333,
             "#9c179e"
            ],
            [
             0.4444444444444444,
             "#bd3786"
            ],
            [
             0.5555555555555556,
             "#d8576b"
            ],
            [
             0.6666666666666666,
             "#ed7953"
            ],
            [
             0.7777777777777778,
             "#fb9f3a"
            ],
            [
             0.8888888888888888,
             "#fdca26"
            ],
            [
             1,
             "#f0f921"
            ]
           ]
          },
          "colorway": [
           "#636efa",
           "#EF553B",
           "#00cc96",
           "#ab63fa",
           "#FFA15A",
           "#19d3f3",
           "#FF6692",
           "#B6E880",
           "#FF97FF",
           "#FECB52"
          ],
          "font": {
           "color": "#2a3f5f"
          },
          "geo": {
           "bgcolor": "white",
           "lakecolor": "white",
           "landcolor": "#E5ECF6",
           "showlakes": true,
           "showland": true,
           "subunitcolor": "white"
          },
          "hoverlabel": {
           "align": "left"
          },
          "hovermode": "closest",
          "mapbox": {
           "style": "light"
          },
          "paper_bgcolor": "white",
          "plot_bgcolor": "#E5ECF6",
          "polar": {
           "angularaxis": {
            "gridcolor": "white",
            "linecolor": "white",
            "ticks": ""
           },
           "bgcolor": "#E5ECF6",
           "radialaxis": {
            "gridcolor": "white",
            "linecolor": "white",
            "ticks": ""
           }
          },
          "scene": {
           "xaxis": {
            "backgroundcolor": "#E5ECF6",
            "gridcolor": "white",
            "gridwidth": 2,
            "linecolor": "white",
            "showbackground": true,
            "ticks": "",
            "zerolinecolor": "white"
           },
           "yaxis": {
            "backgroundcolor": "#E5ECF6",
            "gridcolor": "white",
            "gridwidth": 2,
            "linecolor": "white",
            "showbackground": true,
            "ticks": "",
            "zerolinecolor": "white"
           },
           "zaxis": {
            "backgroundcolor": "#E5ECF6",
            "gridcolor": "white",
            "gridwidth": 2,
            "linecolor": "white",
            "showbackground": true,
            "ticks": "",
            "zerolinecolor": "white"
           }
          },
          "shapedefaults": {
           "line": {
            "color": "#2a3f5f"
           }
          },
          "ternary": {
           "aaxis": {
            "gridcolor": "white",
            "linecolor": "white",
            "ticks": ""
           },
           "baxis": {
            "gridcolor": "white",
            "linecolor": "white",
            "ticks": ""
           },
           "bgcolor": "#E5ECF6",
           "caxis": {
            "gridcolor": "white",
            "linecolor": "white",
            "ticks": ""
           }
          },
          "title": {
           "x": 0.05
          },
          "xaxis": {
           "automargin": true,
           "gridcolor": "white",
           "linecolor": "white",
           "ticks": "",
           "title": {
            "standoff": 15
           },
           "zerolinecolor": "white",
           "zerolinewidth": 2
          },
          "yaxis": {
           "automargin": true,
           "gridcolor": "white",
           "linecolor": "white",
           "ticks": "",
           "title": {
            "standoff": 15
           },
           "zerolinecolor": "white",
           "zerolinewidth": 2
          }
         }
        },
        "xaxis": {
         "anchor": "y",
         "domain": [
          0,
          1
         ],
         "title": {
          "text": "lead_time"
         }
        },
        "yaxis": {
         "anchor": "x",
         "domain": [
          0,
          1
         ],
         "title": {
          "text": "Infantmortality(per1000births)"
         }
        }
       }
      }
     },
     "metadata": {},
     "output_type": "display_data"
    }
   ],
   "source": [
    "\n",
    "fig = px.scatter(concat, x=\"lead_time\", y=\"Infantmortality(per1000births)\", trendline=\"ols\")\n",
    "fig.show()"
   ]
  },
  {
   "cell_type": "code",
   "execution_count": null,
   "metadata": {},
   "outputs": [],
   "source": []
  }
 ],
 "metadata": {
  "kernelspec": {
   "display_name": "Python 3",
   "language": "python",
   "name": "python3"
  },
  "language_info": {
   "codemirror_mode": {
    "name": "ipython",
    "version": 3
   },
   "file_extension": ".py",
   "mimetype": "text/x-python",
   "name": "python",
   "nbconvert_exporter": "python",
   "pygments_lexer": "ipython3",
   "version": "3.10.10"
  },
  "orig_nbformat": 4
 },
 "nbformat": 4,
 "nbformat_minor": 2
}
